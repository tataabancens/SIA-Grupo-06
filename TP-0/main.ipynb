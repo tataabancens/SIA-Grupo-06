{
 "cells": [
  {
   "cell_type": "markdown",
   "source": [
    "# Importar librerías necesarias y definir variables"
   ],
   "metadata": {
    "collapsed": false
   },
   "id": "f82ae5525bf79358"
  },
  {
   "cell_type": "code",
   "execution_count": null,
   "outputs": [],
   "source": [
    "import json\n",
    "\n",
    "from typing import List\n",
    "import sys\n",
    "from pathlib import Path\n",
    "import os\n",
    "from statistics import mean, stdev\n",
    "\n",
    "from src.catching import attempt_catch\n",
    "from src.pokemon import PokemonFactory, StatusEffect, Pokemon\n",
    "\n",
    "DEFAULT_NOISE = 0  # Dijeron que no lo usemos, salvo para el 2c y no sé si el 2d\n",
    "\n",
    "OUTPUT_PATH = \"output\"  # Relativo al src\n",
    "\n",
    "EJ1_FILENAME = \"Ej1.csv\" # Relativo al output\n",
    "\n",
    "CONFIG_FILENAME = \"config.json\" # Relativo al src\n",
    "\n",
    "OUTPUT_HTML_PLOT_NAME = \"first_figure.html\""
   ],
   "metadata": {
    "collapsed": false
   },
   "id": "c8e9d7a9dcf3149d"
  },
  {
   "cell_type": "code",
   "execution_count": null,
   "outputs": [],
   "source": [
    "def get_src() -> Path:\n",
    "    return Path(get_src_str())\n",
    "\n",
    "\n",
    "def get_src_str() -> str:\n",
    "    return os.getcwd() + \"/\"\n",
    "\n",
    "\n",
    "def move_to_src() -> None:\n",
    "    src = get_src()\n",
    "    os.chdir(src)\n",
    "\n",
    "\n",
    "def get_output_dir() -> Path:\n",
    "    return Path(get_src()).joinpath(OUTPUT_PATH)\n",
    "\n",
    "\n",
    "def get_output_dir_str() -> str:\n",
    "    return str(get_output_dir().resolve()) + \"/\""
   ],
   "metadata": {
    "collapsed": false
   },
   "id": "9cc033208a4eccfe"
  },
  {
   "cell_type": "markdown",
   "source": [
    "# Cargar configuración"
   ],
   "metadata": {
    "collapsed": false
   },
   "id": "58ea6287d07339bb"
  },
  {
   "cell_type": "code",
   "execution_count": null,
   "outputs": [],
   "source": [
    "class ConfigData:\n",
    "    iterations: int = 100\n",
    "    pokeballs: List[str] = [\"pokeball\", \"ultraball\", \"fastball\", \"heavyball\"]\n",
    "    pokemon_names: List[str] = [\"snorlax\"]\n",
    "    level: int = 100\n",
    "    status_effect: str = \"none\"\n",
    "    health: float = 1.0\n",
    "\n",
    "def load_config() -> ConfigData:\n",
    "    config_data = ConfigData()\n",
    "    if len(sys.argv) == 1:\n",
    "        return config_data\n",
    "\n",
    "    with open(get_src().joinpath(CONFIG_FILENAME), \"r\") as config_f:\n",
    "        config = json.load(config_f)\n",
    "\n",
    "        # With default values\n",
    "        try:\n",
    "            config_data.iterations = config[\"iterations\"]\n",
    "        except KeyError:\n",
    "            pass\n",
    "        try:\n",
    "            config_data.pokeballs = config[\"pokeballs\"]\n",
    "        except KeyError:\n",
    "            pass\n",
    "        try:\n",
    "            config_data.pokemon_names = config[\"pokemons\"]\n",
    "        except KeyError:\n",
    "            pass\n",
    "        try:\n",
    "            config_data.level = config[\"level\"]\n",
    "        except KeyError:\n",
    "            pass\n",
    "        try:\n",
    "            config_data.status_effect = config[\"status_effect\"]\n",
    "        except KeyError:\n",
    "            pass\n",
    "        try:\n",
    "            config_data.health = config[\"health\"]\n",
    "        except KeyError:\n",
    "            pass\n",
    "    return config_data"
   ],
   "metadata": {
    "collapsed": false
   },
   "id": "bc7ae36c658549b1"
  },
  {
   "cell_type": "code",
   "execution_count": null,
   "outputs": [],
   "source": [
    "config = load_config()"
   ],
   "metadata": {
    "collapsed": false
   },
   "id": "1d34f2418eb38ef"
  },
  {
   "cell_type": "markdown",
   "source": [
    "# Ej 1"
   ],
   "metadata": {
    "collapsed": false
   },
   "id": "30ac42e2fe0bc073"
  },
  {
   "cell_type": "markdown",
   "source": [
    "## Definición de Funciones"
   ],
   "metadata": {
    "collapsed": false
   },
   "id": "77d8097ed91e784a"
  },
  {
   "cell_type": "code",
   "execution_count": null,
   "outputs": [],
   "source": [
    "def stress_pokeball(ball: str, pkmons: List[Pokemon], n: int):\n",
    "    \"\"\"Tests the given Pokeball with the provided list of Pokemons and returns the average catch rate and the standard\n",
    "    deviation\n",
    "\n",
    "    :param ball: The name of the type of ball to use\n",
    "    :type ball: str\n",
    "    :param pkmons: List of Pokemons to try catching\n",
    "    :type pkmons: list[Pokemon]\n",
    "    :param n: The amount of iterations to test\n",
    "    :type n: int\n",
    "    :return:\n",
    "        The catch rate of the Pokeball in relation to the given Pokemons, as a tuple with the mean catch rate and\n",
    "        its standard deviation\n",
    "    \"\"\"\n",
    "    catch_rates = []\n",
    "    catches = 0\n",
    "    for pkmon in pkmons:\n",
    "        for _ in range(n):\n",
    "            caught, rate = attempt_catch(pkmon, ball, DEFAULT_NOISE)\n",
    "            catch_rates.append(rate)\n",
    "            catches += 1 if caught else 0\n",
    "    mean_rate = mean(catch_rates)\n",
    "    print(f\"min: {min(catch_rates)} || max: {max(catch_rates)} || avg: {mean_rate}\")\n",
    "    return [mean_rate, stdev(catch_rates, mean_rate)]\n",
    "\n",
    "\n",
    "def create_all_pokemons(names: List[str], lvl: int, status: StatusEffect, health: float) -> List[Pokemon]:\n",
    "    factory = PokemonFactory(\"pokemon.json\")\n",
    "    pokemons_to_ret: List[Pokemon] = []\n",
    "    for pokemon_name in names:\n",
    "        pokemons_to_ret.append(factory.create(pokemon_name, lvl, status, health))\n",
    "    return pokemons_to_ret"
   ],
   "metadata": {
    "collapsed": false
   },
   "id": "bb3b9b6a18c99843"
  },
  {
   "cell_type": "markdown",
   "source": [
    "## Resolución"
   ],
   "metadata": {
    "collapsed": false
   },
   "id": "fb85b2601ed6cd5b"
  },
  {
   "cell_type": "code",
   "execution_count": null,
   "outputs": [],
   "source": [
    "pokemons = create_all_pokemons(\n",
    "        config.pokemon_names,\n",
    "        config.level,\n",
    "        StatusEffect.from_value(config.status_effect),\n",
    "        config.health\n",
    "    )\n",
    "\n",
    "output_path = get_output_dir()\n",
    "\n",
    "os.makedirs(output_path, exist_ok=True)  # create dir if not exists\n",
    "with open(output_path.joinpath(EJ1_FILENAME), \"w\") as csv_f:\n",
    "\n",
    "    csv_f.write(\"pokeball,avg_prob,stdev\\n\")\n",
    "\n",
    "    for pokeball in config.pokeballs:\n",
    "        poke_prob_avg, poke_stdev = stress_pokeball(pokeball, pokemons, config.iterations)\n",
    "        print(f\"Pokebola: {pokeball}\")\n",
    "        print(f\"average_prob: {poke_prob_avg}\")\n",
    "        print(f\"deviation: {poke_stdev}\")\n",
    "        print(\"---------------------\")\n",
    "        csv_f.write(f\"{pokeball},{poke_prob_avg},{poke_stdev}\\n\")"
   ],
   "metadata": {
    "collapsed": false
   },
   "id": "6566eb17b7ac5b57"
  },
  {
   "cell_type": "markdown",
   "source": [
    "## Gráficos"
   ],
   "metadata": {
    "collapsed": false
   },
   "id": "a40014f18a510d0a"
  },
  {
   "cell_type": "code",
   "execution_count": null,
   "outputs": [],
   "source": [
    "import plotly.express as px\n",
    "import pandas as pd\n",
    "\n",
    "def plot_values(x: List[any], y: List[float], e_y, title=\"Title\"):\n",
    "    fig = px.bar(x=x, y=y, title=title, error_y=e_y)\n",
    "    fig.update_layout(title_font_size=50)\n",
    "    fig.write_html(get_output_dir().joinpath(OUTPUT_HTML_PLOT_NAME), auto_open=True)"
   ],
   "metadata": {
    "collapsed": false
   },
   "id": "ef89ff097bd07ac2"
  },
  {
   "cell_type": "code",
   "execution_count": null,
   "outputs": [],
   "source": [
    "data_frame = pd.read_csv(get_output_dir().joinpath(EJ1_FILENAME), sep=',')\n",
    "\n",
    "plot_values(data_frame[\"pokeball\"], data_frame[\"avg_prob\"], data_frame[\"stdev\"], \"Pokeball accuracy\")\n",
    "\n",
    "print(data_frame)"
   ],
   "metadata": {
    "collapsed": false
   },
   "id": "eb5d99b1e64b97b2"
  }
 ],
 "metadata": {
  "kernelspec": {
   "display_name": "Python 3",
   "language": "python",
   "name": "python3"
  },
  "language_info": {
   "codemirror_mode": {
    "name": "ipython",
    "version": 2
   },
   "file_extension": ".py",
   "mimetype": "text/x-python",
   "name": "python",
   "nbconvert_exporter": "python",
   "pygments_lexer": "ipython2",
   "version": "2.7.6"
  }
 },
 "nbformat": 4,
 "nbformat_minor": 5
}
