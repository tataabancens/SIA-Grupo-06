{
 "cells": [
  {
   "cell_type": "markdown",
   "id": "f82ae5525bf79358",
   "metadata": {
    "collapsed": false
   },
   "source": [
    "# Importar librerías necesarias y definir variables"
   ]
  },
  {
   "cell_type": "code",
   "execution_count": 2,
   "id": "c8e9d7a9dcf3149d",
   "metadata": {
    "ExecuteTime": {
     "end_time": "2023-08-13T20:13:48.886225758Z",
     "start_time": "2023-08-13T20:13:48.674017795Z"
    },
    "collapsed": false
   },
   "outputs": [],
   "source": [
    "import json\n",
    "\n",
    "from typing import List\n",
    "import sys\n",
    "from pathlib import Path\n",
    "import matplotlib.pyplot as plt\n",
    "import os\n",
    "from enum import Enum\n",
    "\n",
    "from src.catching import attempt_catch\n",
    "from src.pokemon import PokemonFactory, StatusEffect, Pokemon\n",
    "\n",
    "DEFAULT_NOISE = 0  # Dijeron que no lo usemos, salvo para el 2c y no sé si el 2d\n",
    "\n",
    "OUTPUT_PATH = \"output\"  # Relativo al src\n",
    "\n",
    "CONFIG_PATH = \"configs\"\n",
    "\n",
    "EJ2_CONFIG = \"Ej2c.json\"\n",
    "\n",
    "EJ2D_CONFIG = \"Ej2d.json\"\n",
    "\n",
    "class OutputFilenames(Enum): \n",
    "    # Relativo al output\n",
    "    EJ1A = \"ej1a.csv\"\n",
    "    EJ1B = \"ej1b.csv\"\n",
    "\n",
    "\n",
    "CONFIG_FILENAME = \"config.json\" # Relativo al src\n",
    "\n",
    "OUTPUT_HTML_PLOT_NAME = \"first_figure.html\""
   ]
  },
  {
   "cell_type": "code",
   "execution_count": 3,
   "id": "9cc033208a4eccfe",
   "metadata": {
    "ExecuteTime": {
     "end_time": "2023-08-13T20:13:52.184183532Z",
     "start_time": "2023-08-13T20:13:52.138644447Z"
    },
    "collapsed": false
   },
   "outputs": [],
   "source": [
    "def get_src() -> Path:\n",
    "    return Path(get_src_str())\n",
    "\n",
    "\n",
    "def get_src_str() -> str:\n",
    "    return os.getcwd() + \"/\"\n",
    "\n",
    "\n",
    "def move_to_src() -> None:\n",
    "    src = get_src()\n",
    "    os.chdir(src)\n",
    "\n",
    "\n",
    "def get_output_dir() -> Path:\n",
    "    return Path(get_src()).joinpath(OUTPUT_PATH)\n",
    "\n",
    "\n",
    "def get_output_dir_str() -> str:\n",
    "    return str(get_output_dir().resolve()) + \"/\"\n",
    "\n",
    "def get_config_dir() -> Path:\n",
    "    return Path(get_src()).joinpath(CONFIG_PATH)\n",
    "\n",
    "\n",
    "def get_config_dir_str() -> str:\n",
    "    return str(get_config_dir().resolve()) + \"/\"\n",
    "\n"
   ]
  },
  {
   "cell_type": "markdown",
   "id": "58ea6287d07339bb",
   "metadata": {
    "collapsed": false
   },
   "source": [
    "# Cargar configuración"
   ]
  },
  {
   "cell_type": "code",
   "execution_count": 11,
   "id": "bc7ae36c658549b1",
   "metadata": {
    "ExecuteTime": {
     "end_time": "2023-08-13T20:14:00.401667662Z",
     "start_time": "2023-08-13T20:14:00.377983216Z"
    },
    "collapsed": false
   },
   "outputs": [],
   "source": [
    "class ConfigData:\n",
    "    iterations: int = 100\n",
    "    pokeballs: List[str] = [\"pokeball\", \"ultraball\", \"fastball\", \"heavyball\"]\n",
    "    pokemon_names: List[str] = [\"jolteon\",\"caterpie\",\"snorlax\",\"onix\",\"mewtwo\"]\n",
    "    level: int = 100\n",
    "    status_effect: str = \"none\"\n",
    "    health: float = 1.0\n",
    "\n",
    "def load_config() -> ConfigData:\n",
    "    config_data = ConfigData()\n",
    "    if len(sys.argv) == 1:\n",
    "        return config_data\n",
    "\n",
    "    with open(get_src().joinpath(CONFIG_FILENAME), \"r\") as config_f:\n",
    "        config = json.load(config_f)\n",
    "\n",
    "        # With default values\n",
    "        try:\n",
    "            config_data.iterations = config[\"iterations\"]\n",
    "        except KeyError:\n",
    "            pass\n",
    "        try:\n",
    "            config_data.pokeballs = config[\"pokeballs\"]\n",
    "        except KeyError:\n",
    "            pass\n",
    "        try:\n",
    "            config_data.pokemon_names = config[\"pokemons\"]\n",
    "        except KeyError:\n",
    "            pass\n",
    "        try:\n",
    "            config_data.level = config[\"level\"]\n",
    "        except KeyError:\n",
    "            pass\n",
    "        try:\n",
    "            config_data.status_effect = config[\"status_effect\"]\n",
    "        except KeyError:\n",
    "            pass\n",
    "        try:\n",
    "            config_data.health = config[\"health\"]\n",
    "        except KeyError:\n",
    "            pass\n",
    "    return config_data"
   ]
  },
  {
   "cell_type": "code",
   "execution_count": 12,
   "id": "1d34f2418eb38ef",
   "metadata": {
    "ExecuteTime": {
     "end_time": "2023-08-13T20:14:02.645052311Z",
     "start_time": "2023-08-13T20:14:02.613328127Z"
    },
    "collapsed": false
   },
   "outputs": [],
   "source": [
    "config = load_config()"
   ]
  },
  {
   "cell_type": "markdown",
   "id": "30ac42e2fe0bc073",
   "metadata": {
    "collapsed": false
   },
   "source": [
    "# Ej 1"
   ]
  },
  {
   "cell_type": "markdown",
   "id": "77d8097ed91e784a",
   "metadata": {
    "collapsed": false
   },
   "source": [
    "## Definición de Funciones"
   ]
  },
  {
   "cell_type": "code",
   "execution_count": 13,
   "id": "bb3b9b6a18c99843",
   "metadata": {
    "ExecuteTime": {
     "end_time": "2023-08-13T20:14:09.797202342Z",
     "start_time": "2023-08-13T20:14:09.750842146Z"
    },
    "collapsed": false
   },
   "outputs": [],
   "source": [
    "from statistics import mean, stdev\n",
    "from math import sqrt\n",
    "from typing import Tuple\n",
    "\n",
    "def catch_pokemon(pokemon: Pokemon, pokeball_type:str, n:int) -> Tuple[float,float]:\n",
    "    \"\"\"\n",
    "    Tries to catch a pokemon with a specific pokeball n times\n",
    "    :param pokemon: the pokemon to catch\n",
    "    :param pokeball_type: the name of the pokeball ot use\n",
    "    :param n: the amount of times to try catching the pokemon\n",
    "    :return: (Tuple[float,float]) the catch rate with its error\n",
    "    \"\"\"\n",
    "    catches = []\n",
    "    for _ in range(n):\n",
    "        caught, rate = attempt_catch(pokemon, pokeball_type, DEFAULT_NOISE)\n",
    "        catches.append(1 if caught else 0)\n",
    "    catch_mean = mean(catches)\n",
    "    return catch_mean, stdev(catches, catch_mean) / sqrt(n)\n",
    "\n",
    "def stress_pokeball(ball: str, pkmons: List[Pokemon], n: int) -> Tuple[float, float]:\n",
    "    \"\"\"Tests the given Pokeball with the provided list of Pokemons and returns the average catch rate and the standard error\n",
    "\n",
    "    :param ball: The name of the type of ball to use\n",
    "    :type ball: str\n",
    "    :param pkmons: List of Pokemons to try catching\n",
    "    :type pkmons: list[Pokemon]\n",
    "    :param n: The amount of iterations to test\n",
    "    :type n: int\n",
    "    :return: (Tuple[float,float]) The catch rate of the Pokeball in relation to the given Pokemons, as a tuple with the mean catch rate and\n",
    "        its standard error\n",
    "    \"\"\"\n",
    "    catch_rates = []\n",
    "    for pkmon in pkmons:\n",
    "        catch_rates.append(catch_pokemon(pkmon, ball,n)[0])\n",
    "    mean_rate = mean(catch_rates)\n",
    "    return mean_rate, stdev(catch_rates, mean_rate) / sqrt(len(catch_rates))\n",
    "\n",
    "\n",
    "def create_all_pokemons(names: List[str], lvl: int, status: StatusEffect, health: float) -> List[Pokemon]:\n",
    "    factory = PokemonFactory(\"pokemon.json\")\n",
    "    pokemons_to_ret: List[Pokemon] = []\n",
    "    for pokemon_name in names:\n",
    "        pokemons_to_ret.append(factory.create(pokemon_name, lvl, status, health))\n",
    "    return pokemons_to_ret"
   ]
  },
  {
   "cell_type": "markdown",
   "id": "a8bfb9e1a5a3ed14",
   "metadata": {
    "collapsed": false
   },
   "source": [
    "## Definición de Variables"
   ]
  },
  {
   "cell_type": "code",
   "execution_count": 14,
   "id": "d98f7e9aed4933d",
   "metadata": {
    "ExecuteTime": {
     "end_time": "2023-08-13T20:14:15.497871729Z",
     "start_time": "2023-08-13T20:14:15.467524628Z"
    },
    "collapsed": false
   },
   "outputs": [],
   "source": [
    "pokemons = create_all_pokemons(\n",
    "        config.pokemon_names,\n",
    "        config.level,\n",
    "        StatusEffect.from_value(config.status_effect),\n",
    "        config.health\n",
    "    )\n",
    "output_path = get_output_dir()\n",
    "os.makedirs(output_path, exist_ok=True)  # create dir if not exists\n",
    "pokeballs = [\"pokeball\", \"ultraball\", \"fastball\", \"heavyball\"]"
   ]
  },
  {
   "cell_type": "markdown",
   "id": "1a63bcd37e51b1d3",
   "metadata": {
    "collapsed": false
   },
   "source": [
    "## Ej 1a"
   ]
  },
  {
   "cell_type": "markdown",
   "id": "fb85b2601ed6cd5b",
   "metadata": {
    "collapsed": false
   },
   "source": [
    "### Resolución"
   ]
  },
  {
   "cell_type": "code",
   "execution_count": 16,
   "id": "6566eb17b7ac5b57",
   "metadata": {
    "ExecuteTime": {
     "end_time": "2023-08-13T20:14:26.099396121Z",
     "start_time": "2023-08-13T20:14:25.035624172Z"
    },
    "collapsed": false
   },
   "outputs": [
    {
     "name": "stdout",
     "output_type": "stream",
     "text": [
      "    pokeball  avg_prob     error\n",
      "0   pokeball     0.092  0.065069\n",
      "1  ultraball     0.192  0.118254\n",
      "2   fastball     0.132  0.060860\n",
      "3  heavyball     0.094  0.050259\n"
     ]
    }
   ],
   "source": [
    "from dataclasses import dataclass\n",
    "from typing import List\n",
    "from pandas import DataFrame\n",
    "\n",
    "@dataclass\n",
    "class Ej1aEntry:\n",
    "    pokeball:str\n",
    "    avg_prob:str\n",
    "    error:str\n",
    "    \n",
    "entries: List[Ej1aEntry] = []\n",
    "for pokeball in config.pokeballs:\n",
    "    poke_prob_avg, poke_error = stress_pokeball(pokeball, pokemons, config.iterations)\n",
    "    entries.append(Ej1aEntry(pokeball, poke_prob_avg,poke_error))\n",
    "\n",
    "df = DataFrame(entries)\n",
    "df.to_csv(output_path.joinpath(OutputFilenames.EJ1A.value))\n",
    "print(df)"
   ]
  },
  {
   "cell_type": "markdown",
   "id": "a40014f18a510d0a",
   "metadata": {
    "collapsed": false
   },
   "source": [
    "### Gráficos"
   ]
  },
  {
   "cell_type": "code",
   "execution_count": 17,
   "id": "ef89ff097bd07ac2",
   "metadata": {
    "ExecuteTime": {
     "end_time": "2023-08-13T20:17:33.679239593Z",
     "start_time": "2023-08-13T20:17:33.517065872Z"
    },
    "collapsed": false
   },
   "outputs": [
    {
     "name": "stdout",
     "output_type": "stream",
     "text": [
      "   Unnamed: 0   pokeball  avg_prob     error\n",
      "0           0   pokeball     0.086  0.054736\n",
      "1           1  ultraball     0.174  0.094319\n",
      "2           2   fastball     0.140  0.051478\n",
      "3           3  heavyball     0.102  0.058429\n"
     ]
    },
    {
     "data": {
      "application/vnd.plotly.v1+json": {
       "config": {
        "plotlyServerURL": "https://plot.ly"
       },
       "data": [
        {
         "alignmentgroup": "True",
         "error_y": {
          "array": [
           0.054735728733616,
           0.0943186089804127,
           0.051478150704935,
           0.0584294446319661
          ]
         },
         "hovertemplate": "pokeball=%{x}<br>avg_prob=%{y}<extra></extra>",
         "legendgroup": "",
         "marker": {
          "color": "#636efa",
          "pattern": {
           "shape": ""
          }
         },
         "name": "",
         "offsetgroup": "",
         "orientation": "v",
         "showlegend": false,
         "textposition": "auto",
         "type": "bar",
         "x": [
          "pokeball",
          "ultraball",
          "fastball",
          "heavyball"
         ],
         "xaxis": "x",
         "y": [
          0.086,
          0.174,
          0.14,
          0.102
         ],
         "yaxis": "y"
        }
       ],
       "layout": {
        "barmode": "relative",
        "legend": {
         "tracegroupgap": 0
        },
        "template": {
         "data": {
          "bar": [
           {
            "error_x": {
             "color": "#f2f5fa"
            },
            "error_y": {
             "color": "#f2f5fa"
            },
            "marker": {
             "line": {
              "color": "rgb(17,17,17)",
              "width": 0.5
             },
             "pattern": {
              "fillmode": "overlay",
              "size": 10,
              "solidity": 0.2
             }
            },
            "type": "bar"
           }
          ],
          "barpolar": [
           {
            "marker": {
             "line": {
              "color": "rgb(17,17,17)",
              "width": 0.5
             },
             "pattern": {
              "fillmode": "overlay",
              "size": 10,
              "solidity": 0.2
             }
            },
            "type": "barpolar"
           }
          ],
          "carpet": [
           {
            "aaxis": {
             "endlinecolor": "#A2B1C6",
             "gridcolor": "#506784",
             "linecolor": "#506784",
             "minorgridcolor": "#506784",
             "startlinecolor": "#A2B1C6"
            },
            "baxis": {
             "endlinecolor": "#A2B1C6",
             "gridcolor": "#506784",
             "linecolor": "#506784",
             "minorgridcolor": "#506784",
             "startlinecolor": "#A2B1C6"
            },
            "type": "carpet"
           }
          ],
          "choropleth": [
           {
            "colorbar": {
             "outlinewidth": 0,
             "ticks": ""
            },
            "type": "choropleth"
           }
          ],
          "contour": [
           {
            "colorbar": {
             "outlinewidth": 0,
             "ticks": ""
            },
            "colorscale": [
             [
              0,
              "#0d0887"
             ],
             [
              0.1111111111111111,
              "#46039f"
             ],
             [
              0.2222222222222222,
              "#7201a8"
             ],
             [
              0.3333333333333333,
              "#9c179e"
             ],
             [
              0.4444444444444444,
              "#bd3786"
             ],
             [
              0.5555555555555556,
              "#d8576b"
             ],
             [
              0.6666666666666666,
              "#ed7953"
             ],
             [
              0.7777777777777778,
              "#fb9f3a"
             ],
             [
              0.8888888888888888,
              "#fdca26"
             ],
             [
              1,
              "#f0f921"
             ]
            ],
            "type": "contour"
           }
          ],
          "contourcarpet": [
           {
            "colorbar": {
             "outlinewidth": 0,
             "ticks": ""
            },
            "type": "contourcarpet"
           }
          ],
          "heatmap": [
           {
            "colorbar": {
             "outlinewidth": 0,
             "ticks": ""
            },
            "colorscale": [
             [
              0,
              "#0d0887"
             ],
             [
              0.1111111111111111,
              "#46039f"
             ],
             [
              0.2222222222222222,
              "#7201a8"
             ],
             [
              0.3333333333333333,
              "#9c179e"
             ],
             [
              0.4444444444444444,
              "#bd3786"
             ],
             [
              0.5555555555555556,
              "#d8576b"
             ],
             [
              0.6666666666666666,
              "#ed7953"
             ],
             [
              0.7777777777777778,
              "#fb9f3a"
             ],
             [
              0.8888888888888888,
              "#fdca26"
             ],
             [
              1,
              "#f0f921"
             ]
            ],
            "type": "heatmap"
           }
          ],
          "heatmapgl": [
           {
            "colorbar": {
             "outlinewidth": 0,
             "ticks": ""
            },
            "colorscale": [
             [
              0,
              "#0d0887"
             ],
             [
              0.1111111111111111,
              "#46039f"
             ],
             [
              0.2222222222222222,
              "#7201a8"
             ],
             [
              0.3333333333333333,
              "#9c179e"
             ],
             [
              0.4444444444444444,
              "#bd3786"
             ],
             [
              0.5555555555555556,
              "#d8576b"
             ],
             [
              0.6666666666666666,
              "#ed7953"
             ],
             [
              0.7777777777777778,
              "#fb9f3a"
             ],
             [
              0.8888888888888888,
              "#fdca26"
             ],
             [
              1,
              "#f0f921"
             ]
            ],
            "type": "heatmapgl"
           }
          ],
          "histogram": [
           {
            "marker": {
             "pattern": {
              "fillmode": "overlay",
              "size": 10,
              "solidity": 0.2
             }
            },
            "type": "histogram"
           }
          ],
          "histogram2d": [
           {
            "colorbar": {
             "outlinewidth": 0,
             "ticks": ""
            },
            "colorscale": [
             [
              0,
              "#0d0887"
             ],
             [
              0.1111111111111111,
              "#46039f"
             ],
             [
              0.2222222222222222,
              "#7201a8"
             ],
             [
              0.3333333333333333,
              "#9c179e"
             ],
             [
              0.4444444444444444,
              "#bd3786"
             ],
             [
              0.5555555555555556,
              "#d8576b"
             ],
             [
              0.6666666666666666,
              "#ed7953"
             ],
             [
              0.7777777777777778,
              "#fb9f3a"
             ],
             [
              0.8888888888888888,
              "#fdca26"
             ],
             [
              1,
              "#f0f921"
             ]
            ],
            "type": "histogram2d"
           }
          ],
          "histogram2dcontour": [
           {
            "colorbar": {
             "outlinewidth": 0,
             "ticks": ""
            },
            "colorscale": [
             [
              0,
              "#0d0887"
             ],
             [
              0.1111111111111111,
              "#46039f"
             ],
             [
              0.2222222222222222,
              "#7201a8"
             ],
             [
              0.3333333333333333,
              "#9c179e"
             ],
             [
              0.4444444444444444,
              "#bd3786"
             ],
             [
              0.5555555555555556,
              "#d8576b"
             ],
             [
              0.6666666666666666,
              "#ed7953"
             ],
             [
              0.7777777777777778,
              "#fb9f3a"
             ],
             [
              0.8888888888888888,
              "#fdca26"
             ],
             [
              1,
              "#f0f921"
             ]
            ],
            "type": "histogram2dcontour"
           }
          ],
          "mesh3d": [
           {
            "colorbar": {
             "outlinewidth": 0,
             "ticks": ""
            },
            "type": "mesh3d"
           }
          ],
          "parcoords": [
           {
            "line": {
             "colorbar": {
              "outlinewidth": 0,
              "ticks": ""
             }
            },
            "type": "parcoords"
           }
          ],
          "pie": [
           {
            "automargin": true,
            "type": "pie"
           }
          ],
          "scatter": [
           {
            "marker": {
             "line": {
              "color": "#283442"
             }
            },
            "type": "scatter"
           }
          ],
          "scatter3d": [
           {
            "line": {
             "colorbar": {
              "outlinewidth": 0,
              "ticks": ""
             }
            },
            "marker": {
             "colorbar": {
              "outlinewidth": 0,
              "ticks": ""
             }
            },
            "type": "scatter3d"
           }
          ],
          "scattercarpet": [
           {
            "marker": {
             "colorbar": {
              "outlinewidth": 0,
              "ticks": ""
             }
            },
            "type": "scattercarpet"
           }
          ],
          "scattergeo": [
           {
            "marker": {
             "colorbar": {
              "outlinewidth": 0,
              "ticks": ""
             }
            },
            "type": "scattergeo"
           }
          ],
          "scattergl": [
           {
            "marker": {
             "line": {
              "color": "#283442"
             }
            },
            "type": "scattergl"
           }
          ],
          "scattermapbox": [
           {
            "marker": {
             "colorbar": {
              "outlinewidth": 0,
              "ticks": ""
             }
            },
            "type": "scattermapbox"
           }
          ],
          "scatterpolar": [
           {
            "marker": {
             "colorbar": {
              "outlinewidth": 0,
              "ticks": ""
             }
            },
            "type": "scatterpolar"
           }
          ],
          "scatterpolargl": [
           {
            "marker": {
             "colorbar": {
              "outlinewidth": 0,
              "ticks": ""
             }
            },
            "type": "scatterpolargl"
           }
          ],
          "scatterternary": [
           {
            "marker": {
             "colorbar": {
              "outlinewidth": 0,
              "ticks": ""
             }
            },
            "type": "scatterternary"
           }
          ],
          "surface": [
           {
            "colorbar": {
             "outlinewidth": 0,
             "ticks": ""
            },
            "colorscale": [
             [
              0,
              "#0d0887"
             ],
             [
              0.1111111111111111,
              "#46039f"
             ],
             [
              0.2222222222222222,
              "#7201a8"
             ],
             [
              0.3333333333333333,
              "#9c179e"
             ],
             [
              0.4444444444444444,
              "#bd3786"
             ],
             [
              0.5555555555555556,
              "#d8576b"
             ],
             [
              0.6666666666666666,
              "#ed7953"
             ],
             [
              0.7777777777777778,
              "#fb9f3a"
             ],
             [
              0.8888888888888888,
              "#fdca26"
             ],
             [
              1,
              "#f0f921"
             ]
            ],
            "type": "surface"
           }
          ],
          "table": [
           {
            "cells": {
             "fill": {
              "color": "#506784"
             },
             "line": {
              "color": "rgb(17,17,17)"
             }
            },
            "header": {
             "fill": {
              "color": "#2a3f5f"
             },
             "line": {
              "color": "rgb(17,17,17)"
             }
            },
            "type": "table"
           }
          ]
         },
         "layout": {
          "annotationdefaults": {
           "arrowcolor": "#f2f5fa",
           "arrowhead": 0,
           "arrowwidth": 1
          },
          "autotypenumbers": "strict",
          "coloraxis": {
           "colorbar": {
            "outlinewidth": 0,
            "ticks": ""
           }
          },
          "colorscale": {
           "diverging": [
            [
             0,
             "#8e0152"
            ],
            [
             0.1,
             "#c51b7d"
            ],
            [
             0.2,
             "#de77ae"
            ],
            [
             0.3,
             "#f1b6da"
            ],
            [
             0.4,
             "#fde0ef"
            ],
            [
             0.5,
             "#f7f7f7"
            ],
            [
             0.6,
             "#e6f5d0"
            ],
            [
             0.7,
             "#b8e186"
            ],
            [
             0.8,
             "#7fbc41"
            ],
            [
             0.9,
             "#4d9221"
            ],
            [
             1,
             "#276419"
            ]
           ],
           "sequential": [
            [
             0,
             "#0d0887"
            ],
            [
             0.1111111111111111,
             "#46039f"
            ],
            [
             0.2222222222222222,
             "#7201a8"
            ],
            [
             0.3333333333333333,
             "#9c179e"
            ],
            [
             0.4444444444444444,
             "#bd3786"
            ],
            [
             0.5555555555555556,
             "#d8576b"
            ],
            [
             0.6666666666666666,
             "#ed7953"
            ],
            [
             0.7777777777777778,
             "#fb9f3a"
            ],
            [
             0.8888888888888888,
             "#fdca26"
            ],
            [
             1,
             "#f0f921"
            ]
           ],
           "sequentialminus": [
            [
             0,
             "#0d0887"
            ],
            [
             0.1111111111111111,
             "#46039f"
            ],
            [
             0.2222222222222222,
             "#7201a8"
            ],
            [
             0.3333333333333333,
             "#9c179e"
            ],
            [
             0.4444444444444444,
             "#bd3786"
            ],
            [
             0.5555555555555556,
             "#d8576b"
            ],
            [
             0.6666666666666666,
             "#ed7953"
            ],
            [
             0.7777777777777778,
             "#fb9f3a"
            ],
            [
             0.8888888888888888,
             "#fdca26"
            ],
            [
             1,
             "#f0f921"
            ]
           ]
          },
          "colorway": [
           "#636efa",
           "#EF553B",
           "#00cc96",
           "#ab63fa",
           "#FFA15A",
           "#19d3f3",
           "#FF6692",
           "#B6E880",
           "#FF97FF",
           "#FECB52"
          ],
          "font": {
           "color": "#f2f5fa"
          },
          "geo": {
           "bgcolor": "rgb(17,17,17)",
           "lakecolor": "rgb(17,17,17)",
           "landcolor": "rgb(17,17,17)",
           "showlakes": true,
           "showland": true,
           "subunitcolor": "#506784"
          },
          "hoverlabel": {
           "align": "left"
          },
          "hovermode": "closest",
          "mapbox": {
           "style": "dark"
          },
          "paper_bgcolor": "rgb(17,17,17)",
          "plot_bgcolor": "rgb(17,17,17)",
          "polar": {
           "angularaxis": {
            "gridcolor": "#506784",
            "linecolor": "#506784",
            "ticks": ""
           },
           "bgcolor": "rgb(17,17,17)",
           "radialaxis": {
            "gridcolor": "#506784",
            "linecolor": "#506784",
            "ticks": ""
           }
          },
          "scene": {
           "xaxis": {
            "backgroundcolor": "rgb(17,17,17)",
            "gridcolor": "#506784",
            "gridwidth": 2,
            "linecolor": "#506784",
            "showbackground": true,
            "ticks": "",
            "zerolinecolor": "#C8D4E3"
           },
           "yaxis": {
            "backgroundcolor": "rgb(17,17,17)",
            "gridcolor": "#506784",
            "gridwidth": 2,
            "linecolor": "#506784",
            "showbackground": true,
            "ticks": "",
            "zerolinecolor": "#C8D4E3"
           },
           "zaxis": {
            "backgroundcolor": "rgb(17,17,17)",
            "gridcolor": "#506784",
            "gridwidth": 2,
            "linecolor": "#506784",
            "showbackground": true,
            "ticks": "",
            "zerolinecolor": "#C8D4E3"
           }
          },
          "shapedefaults": {
           "line": {
            "color": "#f2f5fa"
           }
          },
          "sliderdefaults": {
           "bgcolor": "#C8D4E3",
           "bordercolor": "rgb(17,17,17)",
           "borderwidth": 1,
           "tickwidth": 0
          },
          "ternary": {
           "aaxis": {
            "gridcolor": "#506784",
            "linecolor": "#506784",
            "ticks": ""
           },
           "baxis": {
            "gridcolor": "#506784",
            "linecolor": "#506784",
            "ticks": ""
           },
           "bgcolor": "rgb(17,17,17)",
           "caxis": {
            "gridcolor": "#506784",
            "linecolor": "#506784",
            "ticks": ""
           }
          },
          "title": {
           "x": 0.05
          },
          "updatemenudefaults": {
           "bgcolor": "#506784",
           "borderwidth": 0
          },
          "xaxis": {
           "automargin": true,
           "gridcolor": "#283442",
           "linecolor": "#506784",
           "ticks": "",
           "title": {
            "standoff": 15
           },
           "zerolinecolor": "#283442",
           "zerolinewidth": 2
          },
          "yaxis": {
           "automargin": true,
           "gridcolor": "#283442",
           "linecolor": "#506784",
           "ticks": "",
           "title": {
            "standoff": 15
           },
           "zerolinecolor": "#283442",
           "zerolinewidth": 2
          }
         }
        },
        "title": {
         "text": "Pokeball accuracy"
        },
        "xaxis": {
         "anchor": "y",
         "domain": [
          0,
          1
         ],
         "title": {
          "text": "pokeball"
         }
        },
        "yaxis": {
         "anchor": "x",
         "domain": [
          0,
          1
         ],
         "title": {
          "text": "avg_prob"
         }
        }
       }
      },
      "text/html": [
       "<div>                            <div id=\"fe04aa17-ee72-4578-99f8-f00ddb665c99\" class=\"plotly-graph-div\" style=\"height:525px; width:100%;\"></div>            <script type=\"text/javascript\">                require([\"plotly\"], function(Plotly) {                    window.PLOTLYENV=window.PLOTLYENV || {};                                    if (document.getElementById(\"fe04aa17-ee72-4578-99f8-f00ddb665c99\")) {                    Plotly.newPlot(                        \"fe04aa17-ee72-4578-99f8-f00ddb665c99\",                        [{\"alignmentgroup\":\"True\",\"error_y\":{\"array\":[0.054735728733616,0.0943186089804127,0.051478150704935,0.0584294446319661]},\"hovertemplate\":\"pokeball=%{x}\\u003cbr\\u003eavg_prob=%{y}\\u003cextra\\u003e\\u003c\\u002fextra\\u003e\",\"legendgroup\":\"\",\"marker\":{\"color\":\"#636efa\",\"pattern\":{\"shape\":\"\"}},\"name\":\"\",\"offsetgroup\":\"\",\"orientation\":\"v\",\"showlegend\":false,\"textposition\":\"auto\",\"x\":[\"pokeball\",\"ultraball\",\"fastball\",\"heavyball\"],\"xaxis\":\"x\",\"y\":[0.086,0.174,0.14,0.102],\"yaxis\":\"y\",\"type\":\"bar\"}],                        {\"template\":{\"data\":{\"histogram2dcontour\":[{\"type\":\"histogram2dcontour\",\"colorbar\":{\"outlinewidth\":0,\"ticks\":\"\"},\"colorscale\":[[0.0,\"#0d0887\"],[0.1111111111111111,\"#46039f\"],[0.2222222222222222,\"#7201a8\"],[0.3333333333333333,\"#9c179e\"],[0.4444444444444444,\"#bd3786\"],[0.5555555555555556,\"#d8576b\"],[0.6666666666666666,\"#ed7953\"],[0.7777777777777778,\"#fb9f3a\"],[0.8888888888888888,\"#fdca26\"],[1.0,\"#f0f921\"]]}],\"choropleth\":[{\"type\":\"choropleth\",\"colorbar\":{\"outlinewidth\":0,\"ticks\":\"\"}}],\"histogram2d\":[{\"type\":\"histogram2d\",\"colorbar\":{\"outlinewidth\":0,\"ticks\":\"\"},\"colorscale\":[[0.0,\"#0d0887\"],[0.1111111111111111,\"#46039f\"],[0.2222222222222222,\"#7201a8\"],[0.3333333333333333,\"#9c179e\"],[0.4444444444444444,\"#bd3786\"],[0.5555555555555556,\"#d8576b\"],[0.6666666666666666,\"#ed7953\"],[0.7777777777777778,\"#fb9f3a\"],[0.8888888888888888,\"#fdca26\"],[1.0,\"#f0f921\"]]}],\"heatmap\":[{\"type\":\"heatmap\",\"colorbar\":{\"outlinewidth\":0,\"ticks\":\"\"},\"colorscale\":[[0.0,\"#0d0887\"],[0.1111111111111111,\"#46039f\"],[0.2222222222222222,\"#7201a8\"],[0.3333333333333333,\"#9c179e\"],[0.4444444444444444,\"#bd3786\"],[0.5555555555555556,\"#d8576b\"],[0.6666666666666666,\"#ed7953\"],[0.7777777777777778,\"#fb9f3a\"],[0.8888888888888888,\"#fdca26\"],[1.0,\"#f0f921\"]]}],\"heatmapgl\":[{\"type\":\"heatmapgl\",\"colorbar\":{\"outlinewidth\":0,\"ticks\":\"\"},\"colorscale\":[[0.0,\"#0d0887\"],[0.1111111111111111,\"#46039f\"],[0.2222222222222222,\"#7201a8\"],[0.3333333333333333,\"#9c179e\"],[0.4444444444444444,\"#bd3786\"],[0.5555555555555556,\"#d8576b\"],[0.6666666666666666,\"#ed7953\"],[0.7777777777777778,\"#fb9f3a\"],[0.8888888888888888,\"#fdca26\"],[1.0,\"#f0f921\"]]}],\"contourcarpet\":[{\"type\":\"contourcarpet\",\"colorbar\":{\"outlinewidth\":0,\"ticks\":\"\"}}],\"contour\":[{\"type\":\"contour\",\"colorbar\":{\"outlinewidth\":0,\"ticks\":\"\"},\"colorscale\":[[0.0,\"#0d0887\"],[0.1111111111111111,\"#46039f\"],[0.2222222222222222,\"#7201a8\"],[0.3333333333333333,\"#9c179e\"],[0.4444444444444444,\"#bd3786\"],[0.5555555555555556,\"#d8576b\"],[0.6666666666666666,\"#ed7953\"],[0.7777777777777778,\"#fb9f3a\"],[0.8888888888888888,\"#fdca26\"],[1.0,\"#f0f921\"]]}],\"surface\":[{\"type\":\"surface\",\"colorbar\":{\"outlinewidth\":0,\"ticks\":\"\"},\"colorscale\":[[0.0,\"#0d0887\"],[0.1111111111111111,\"#46039f\"],[0.2222222222222222,\"#7201a8\"],[0.3333333333333333,\"#9c179e\"],[0.4444444444444444,\"#bd3786\"],[0.5555555555555556,\"#d8576b\"],[0.6666666666666666,\"#ed7953\"],[0.7777777777777778,\"#fb9f3a\"],[0.8888888888888888,\"#fdca26\"],[1.0,\"#f0f921\"]]}],\"mesh3d\":[{\"type\":\"mesh3d\",\"colorbar\":{\"outlinewidth\":0,\"ticks\":\"\"}}],\"scatter\":[{\"marker\":{\"line\":{\"color\":\"#283442\"}},\"type\":\"scatter\"}],\"parcoords\":[{\"type\":\"parcoords\",\"line\":{\"colorbar\":{\"outlinewidth\":0,\"ticks\":\"\"}}}],\"scatterpolargl\":[{\"type\":\"scatterpolargl\",\"marker\":{\"colorbar\":{\"outlinewidth\":0,\"ticks\":\"\"}}}],\"bar\":[{\"error_x\":{\"color\":\"#f2f5fa\"},\"error_y\":{\"color\":\"#f2f5fa\"},\"marker\":{\"line\":{\"color\":\"rgb(17,17,17)\",\"width\":0.5},\"pattern\":{\"fillmode\":\"overlay\",\"size\":10,\"solidity\":0.2}},\"type\":\"bar\"}],\"scattergeo\":[{\"type\":\"scattergeo\",\"marker\":{\"colorbar\":{\"outlinewidth\":0,\"ticks\":\"\"}}}],\"scatterpolar\":[{\"type\":\"scatterpolar\",\"marker\":{\"colorbar\":{\"outlinewidth\":0,\"ticks\":\"\"}}}],\"histogram\":[{\"marker\":{\"pattern\":{\"fillmode\":\"overlay\",\"size\":10,\"solidity\":0.2}},\"type\":\"histogram\"}],\"scattergl\":[{\"marker\":{\"line\":{\"color\":\"#283442\"}},\"type\":\"scattergl\"}],\"scatter3d\":[{\"type\":\"scatter3d\",\"line\":{\"colorbar\":{\"outlinewidth\":0,\"ticks\":\"\"}},\"marker\":{\"colorbar\":{\"outlinewidth\":0,\"ticks\":\"\"}}}],\"scattermapbox\":[{\"type\":\"scattermapbox\",\"marker\":{\"colorbar\":{\"outlinewidth\":0,\"ticks\":\"\"}}}],\"scatterternary\":[{\"type\":\"scatterternary\",\"marker\":{\"colorbar\":{\"outlinewidth\":0,\"ticks\":\"\"}}}],\"scattercarpet\":[{\"type\":\"scattercarpet\",\"marker\":{\"colorbar\":{\"outlinewidth\":0,\"ticks\":\"\"}}}],\"carpet\":[{\"aaxis\":{\"endlinecolor\":\"#A2B1C6\",\"gridcolor\":\"#506784\",\"linecolor\":\"#506784\",\"minorgridcolor\":\"#506784\",\"startlinecolor\":\"#A2B1C6\"},\"baxis\":{\"endlinecolor\":\"#A2B1C6\",\"gridcolor\":\"#506784\",\"linecolor\":\"#506784\",\"minorgridcolor\":\"#506784\",\"startlinecolor\":\"#A2B1C6\"},\"type\":\"carpet\"}],\"table\":[{\"cells\":{\"fill\":{\"color\":\"#506784\"},\"line\":{\"color\":\"rgb(17,17,17)\"}},\"header\":{\"fill\":{\"color\":\"#2a3f5f\"},\"line\":{\"color\":\"rgb(17,17,17)\"}},\"type\":\"table\"}],\"barpolar\":[{\"marker\":{\"line\":{\"color\":\"rgb(17,17,17)\",\"width\":0.5},\"pattern\":{\"fillmode\":\"overlay\",\"size\":10,\"solidity\":0.2}},\"type\":\"barpolar\"}],\"pie\":[{\"automargin\":true,\"type\":\"pie\"}]},\"layout\":{\"autotypenumbers\":\"strict\",\"colorway\":[\"#636efa\",\"#EF553B\",\"#00cc96\",\"#ab63fa\",\"#FFA15A\",\"#19d3f3\",\"#FF6692\",\"#B6E880\",\"#FF97FF\",\"#FECB52\"],\"font\":{\"color\":\"#f2f5fa\"},\"hovermode\":\"closest\",\"hoverlabel\":{\"align\":\"left\"},\"paper_bgcolor\":\"rgb(17,17,17)\",\"plot_bgcolor\":\"rgb(17,17,17)\",\"polar\":{\"bgcolor\":\"rgb(17,17,17)\",\"angularaxis\":{\"gridcolor\":\"#506784\",\"linecolor\":\"#506784\",\"ticks\":\"\"},\"radialaxis\":{\"gridcolor\":\"#506784\",\"linecolor\":\"#506784\",\"ticks\":\"\"}},\"ternary\":{\"bgcolor\":\"rgb(17,17,17)\",\"aaxis\":{\"gridcolor\":\"#506784\",\"linecolor\":\"#506784\",\"ticks\":\"\"},\"baxis\":{\"gridcolor\":\"#506784\",\"linecolor\":\"#506784\",\"ticks\":\"\"},\"caxis\":{\"gridcolor\":\"#506784\",\"linecolor\":\"#506784\",\"ticks\":\"\"}},\"coloraxis\":{\"colorbar\":{\"outlinewidth\":0,\"ticks\":\"\"}},\"colorscale\":{\"sequential\":[[0.0,\"#0d0887\"],[0.1111111111111111,\"#46039f\"],[0.2222222222222222,\"#7201a8\"],[0.3333333333333333,\"#9c179e\"],[0.4444444444444444,\"#bd3786\"],[0.5555555555555556,\"#d8576b\"],[0.6666666666666666,\"#ed7953\"],[0.7777777777777778,\"#fb9f3a\"],[0.8888888888888888,\"#fdca26\"],[1.0,\"#f0f921\"]],\"sequentialminus\":[[0.0,\"#0d0887\"],[0.1111111111111111,\"#46039f\"],[0.2222222222222222,\"#7201a8\"],[0.3333333333333333,\"#9c179e\"],[0.4444444444444444,\"#bd3786\"],[0.5555555555555556,\"#d8576b\"],[0.6666666666666666,\"#ed7953\"],[0.7777777777777778,\"#fb9f3a\"],[0.8888888888888888,\"#fdca26\"],[1.0,\"#f0f921\"]],\"diverging\":[[0,\"#8e0152\"],[0.1,\"#c51b7d\"],[0.2,\"#de77ae\"],[0.3,\"#f1b6da\"],[0.4,\"#fde0ef\"],[0.5,\"#f7f7f7\"],[0.6,\"#e6f5d0\"],[0.7,\"#b8e186\"],[0.8,\"#7fbc41\"],[0.9,\"#4d9221\"],[1,\"#276419\"]]},\"xaxis\":{\"gridcolor\":\"#283442\",\"linecolor\":\"#506784\",\"ticks\":\"\",\"title\":{\"standoff\":15},\"zerolinecolor\":\"#283442\",\"automargin\":true,\"zerolinewidth\":2},\"yaxis\":{\"gridcolor\":\"#283442\",\"linecolor\":\"#506784\",\"ticks\":\"\",\"title\":{\"standoff\":15},\"zerolinecolor\":\"#283442\",\"automargin\":true,\"zerolinewidth\":2},\"scene\":{\"xaxis\":{\"backgroundcolor\":\"rgb(17,17,17)\",\"gridcolor\":\"#506784\",\"linecolor\":\"#506784\",\"showbackground\":true,\"ticks\":\"\",\"zerolinecolor\":\"#C8D4E3\",\"gridwidth\":2},\"yaxis\":{\"backgroundcolor\":\"rgb(17,17,17)\",\"gridcolor\":\"#506784\",\"linecolor\":\"#506784\",\"showbackground\":true,\"ticks\":\"\",\"zerolinecolor\":\"#C8D4E3\",\"gridwidth\":2},\"zaxis\":{\"backgroundcolor\":\"rgb(17,17,17)\",\"gridcolor\":\"#506784\",\"linecolor\":\"#506784\",\"showbackground\":true,\"ticks\":\"\",\"zerolinecolor\":\"#C8D4E3\",\"gridwidth\":2}},\"shapedefaults\":{\"line\":{\"color\":\"#f2f5fa\"}},\"annotationdefaults\":{\"arrowcolor\":\"#f2f5fa\",\"arrowhead\":0,\"arrowwidth\":1},\"geo\":{\"bgcolor\":\"rgb(17,17,17)\",\"landcolor\":\"rgb(17,17,17)\",\"subunitcolor\":\"#506784\",\"showland\":true,\"showlakes\":true,\"lakecolor\":\"rgb(17,17,17)\"},\"title\":{\"x\":0.05},\"updatemenudefaults\":{\"bgcolor\":\"#506784\",\"borderwidth\":0},\"sliderdefaults\":{\"bgcolor\":\"#C8D4E3\",\"borderwidth\":1,\"bordercolor\":\"rgb(17,17,17)\",\"tickwidth\":0},\"mapbox\":{\"style\":\"dark\"}}},\"xaxis\":{\"anchor\":\"y\",\"domain\":[0.0,1.0],\"title\":{\"text\":\"pokeball\"}},\"yaxis\":{\"anchor\":\"x\",\"domain\":[0.0,1.0],\"title\":{\"text\":\"avg_prob\"}},\"legend\":{\"tracegroupgap\":0},\"title\":{\"text\":\"Pokeball accuracy\"},\"barmode\":\"relative\"},                        {\"responsive\": true}                    ).then(function(){\n",
       "                            \n",
       "var gd = document.getElementById('fe04aa17-ee72-4578-99f8-f00ddb665c99');\n",
       "var x = new MutationObserver(function (mutations, observer) {{\n",
       "        var display = window.getComputedStyle(gd).display;\n",
       "        if (!display || display === 'none') {{\n",
       "            console.log([gd, 'removed!']);\n",
       "            Plotly.purge(gd);\n",
       "            observer.disconnect();\n",
       "        }}\n",
       "}});\n",
       "\n",
       "// Listen for the removal of the full notebook cells\n",
       "var notebookContainer = gd.closest('#notebook-container');\n",
       "if (notebookContainer) {{\n",
       "    x.observe(notebookContainer, {childList: true});\n",
       "}}\n",
       "\n",
       "// Listen for the clearing of the current output cell\n",
       "var outputEl = gd.closest('.output');\n",
       "if (outputEl) {{\n",
       "    x.observe(outputEl, {childList: true});\n",
       "}}\n",
       "\n",
       "                        })                };                });            </script>        </div>"
      ]
     },
     "metadata": {},
     "output_type": "display_data"
    }
   ],
   "source": [
    "import plotly.express as px\n",
    "import pandas as pd\n",
    "\n",
    "data_frame = pd.read_csv(output_path.joinpath(OutputFilenames.EJ1A.value))\n",
    "\n",
    "print(data_frame)\n",
    "\n",
    "px.bar(data_frame, x='pokeball', y='avg_prob', error_y='error', title=\"Pokeball accuracy\")"
   ]
  },
  {
   "cell_type": "markdown",
   "id": "731c7b96b149b0e7",
   "metadata": {
    "collapsed": false
   },
   "source": [
    "## Ej 1b"
   ]
  },
  {
   "cell_type": "markdown",
   "id": "f85bb3321c5dc0a0",
   "metadata": {
    "collapsed": false
   },
   "source": [
    "### Resolución"
   ]
  },
  {
   "cell_type": "code",
   "execution_count": 18,
   "id": "5209523adf3773a5",
   "metadata": {
    "ExecuteTime": {
     "end_time": "2023-08-13T20:17:41.094521460Z",
     "start_time": "2023-08-13T20:17:41.029410207Z"
    },
    "collapsed": false
   },
   "outputs": [
    {
     "name": "stdout",
     "output_type": "stream",
     "text": [
      "         ball  effectiveness     error   pokemon\n",
      "0    pokeball           0.06  0.023868   jolteon\n",
      "1    pokeball           0.34  0.047610  caterpie\n",
      "2    pokeball           0.04  0.019695   snorlax\n",
      "3    pokeball           0.08  0.027266      onix\n",
      "4    pokeball           0.00  0.000000    mewtwo\n",
      "5   ultraball           0.17  0.037753   jolteon\n",
      "6   ultraball           0.64  0.048242  caterpie\n",
      "7   ultraball           0.04  0.019695   snorlax\n",
      "8   ultraball           0.14  0.034874      onix\n",
      "9   ultraball           0.00  0.000000    mewtwo\n",
      "10   fastball           0.22  0.041633   jolteon\n",
      "11   fastball           0.37  0.048524  caterpie\n",
      "12   fastball           0.05  0.021904   snorlax\n",
      "13   fastball           0.07  0.025643      onix\n",
      "14   fastball           0.02  0.014071    mewtwo\n",
      "15  heavyball           0.05  0.021904   jolteon\n",
      "16  heavyball           0.30  0.046057  caterpie\n",
      "17  heavyball           0.10  0.030151   snorlax\n",
      "18  heavyball           0.10  0.030151      onix\n",
      "19  heavyball           0.00  0.000000    mewtwo\n"
     ]
    }
   ],
   "source": [
    "from typing import List\n",
    "from pandas import DataFrame\n",
    "from dataclasses import dataclass\n",
    "\n",
    "# Usamos los mismos pokemones que en el anterior\n",
    "\n",
    "output_path = get_output_dir()\n",
    "\n",
    "os.makedirs(output_path, exist_ok=True)  # create dir if not exists\n",
    "\n",
    "@dataclass\n",
    "class BallEffectiveness:\n",
    "    ball:str\n",
    "    effectiveness:float\n",
    "    error:float\n",
    "    pokemon:str\n",
    "\n",
    "pokeball_results: List[BallEffectiveness] = []\n",
    "\n",
    "def test_pokeball(pokeball_name:str):\n",
    "    for pokemon in pokemons:\n",
    "        effectiveness, error= catch_pokemon(pokemon, pokeball_name, config.iterations)\n",
    "        pokeball_results.append(BallEffectiveness(pokeball_name, effectiveness, error, pokemon.name))\n",
    "    \n",
    "# First get values for basic Pokeball\n",
    "for pokeball in config.pokeballs:\n",
    "    test_pokeball(pokeball)\n",
    "        \n",
    "df = DataFrame(pokeball_results)\n",
    "df.to_csv(path_or_buf=output_path.joinpath(OutputFilenames.EJ1B.value))\n",
    "print(df)"
   ]
  },
  {
   "cell_type": "markdown",
   "id": "f3f70fd95fbc1c17",
   "metadata": {
    "collapsed": false
   },
   "source": [
    "### Gráfico"
   ]
  },
  {
   "cell_type": "code",
   "execution_count": 11,
   "id": "69efb68d0153d024",
   "metadata": {
    "ExecuteTime": {
     "end_time": "2023-08-13T20:17:44.188376737Z",
     "start_time": "2023-08-13T20:17:43.968368288Z"
    },
    "collapsed": false
   },
   "outputs": [
    {
     "data": {
      "application/vnd.plotly.v1+json": {
       "config": {
        "plotlyServerURL": "https://plot.ly"
       },
       "data": [
        {
         "alignmentgroup": "True",
         "error_y": {
          "array": [
           0.023868325657594204,
           0.04760952285695233,
           0.014070529413628968,
           0.01714466079977653,
           0
          ]
         },
         "hovertemplate": "ball=pokeball<br>pokemon=%{x}<br>effectiveness=%{y}<extra></extra>",
         "legendgroup": "pokeball",
         "marker": {
          "color": "#636efa",
          "pattern": {
           "shape": ""
          }
         },
         "name": "pokeball",
         "offsetgroup": "pokeball",
         "orientation": "v",
         "showlegend": true,
         "textposition": "auto",
         "type": "bar",
         "x": [
          "jolteon",
          "caterpie",
          "snorlax",
          "onix",
          "mewtwo"
         ],
         "xaxis": "x",
         "y": [
          0.06,
          0.34,
          0.02,
          0.03,
          0
         ],
         "yaxis": "y"
        },
        {
         "alignmentgroup": "True",
         "error_y": {
          "array": [
           0.033799766898963114,
           0.04725815626252609,
           0.028762349126466136,
           0.021904291355759033,
           0.01
          ]
         },
         "hovertemplate": "ball=ultraball<br>pokemon=%{x}<br>effectiveness=%{y}<extra></extra>",
         "legendgroup": "ultraball",
         "marker": {
          "color": "#EF553B",
          "pattern": {
           "shape": ""
          }
         },
         "name": "ultraball",
         "offsetgroup": "ultraball",
         "orientation": "v",
         "showlegend": true,
         "textposition": "auto",
         "type": "bar",
         "x": [
          "jolteon",
          "caterpie",
          "snorlax",
          "onix",
          "mewtwo"
         ],
         "xaxis": "x",
         "y": [
          0.13,
          0.67,
          0.09,
          0.05,
          0.01
         ],
         "yaxis": "y"
        },
        {
         "alignmentgroup": "True",
         "error_y": {
          "array": [
           0.04020151261036849,
           0.045126085985421296,
           0.01,
           0.01714466079977653,
           0.01714466079977653
          ]
         },
         "hovertemplate": "ball=fastball<br>pokemon=%{x}<br>effectiveness=%{y}<extra></extra>",
         "legendgroup": "fastball",
         "marker": {
          "color": "#00cc96",
          "pattern": {
           "shape": ""
          }
         },
         "name": "fastball",
         "offsetgroup": "fastball",
         "orientation": "v",
         "showlegend": true,
         "textposition": "auto",
         "type": "bar",
         "x": [
          "jolteon",
          "caterpie",
          "snorlax",
          "onix",
          "mewtwo"
         ],
         "xaxis": "x",
         "y": [
          0.2,
          0.28,
          0.01,
          0.03,
          0.03
         ],
         "yaxis": "y"
        },
        {
         "alignmentgroup": "True",
         "error_y": {
          "array": [
           0.019694638556693237,
           0.0440844002276808,
           0.03015113445777636,
           0.028762349126466136,
           0
          ]
         },
         "hovertemplate": "ball=heavyball<br>pokemon=%{x}<br>effectiveness=%{y}<extra></extra>",
         "legendgroup": "heavyball",
         "marker": {
          "color": "#ab63fa",
          "pattern": {
           "shape": ""
          }
         },
         "name": "heavyball",
         "offsetgroup": "heavyball",
         "orientation": "v",
         "showlegend": true,
         "textposition": "auto",
         "type": "bar",
         "x": [
          "jolteon",
          "caterpie",
          "snorlax",
          "onix",
          "mewtwo"
         ],
         "xaxis": "x",
         "y": [
          0.04,
          0.26,
          0.1,
          0.09,
          0
         ],
         "yaxis": "y"
        }
       ],
       "layout": {
        "barmode": "group",
        "legend": {
         "title": {
          "text": "ball"
         },
         "tracegroupgap": 0
        },
        "margin": {
         "t": 60
        },
        "template": {
         "data": {
          "bar": [
           {
            "error_x": {
             "color": "#f2f5fa"
            },
            "error_y": {
             "color": "#f2f5fa"
            },
            "marker": {
             "line": {
              "color": "rgb(17,17,17)",
              "width": 0.5
             },
             "pattern": {
              "fillmode": "overlay",
              "size": 10,
              "solidity": 0.2
             }
            },
            "type": "bar"
           }
          ],
          "barpolar": [
           {
            "marker": {
             "line": {
              "color": "rgb(17,17,17)",
              "width": 0.5
             },
             "pattern": {
              "fillmode": "overlay",
              "size": 10,
              "solidity": 0.2
             }
            },
            "type": "barpolar"
           }
          ],
          "carpet": [
           {
            "aaxis": {
             "endlinecolor": "#A2B1C6",
             "gridcolor": "#506784",
             "linecolor": "#506784",
             "minorgridcolor": "#506784",
             "startlinecolor": "#A2B1C6"
            },
            "baxis": {
             "endlinecolor": "#A2B1C6",
             "gridcolor": "#506784",
             "linecolor": "#506784",
             "minorgridcolor": "#506784",
             "startlinecolor": "#A2B1C6"
            },
            "type": "carpet"
           }
          ],
          "choropleth": [
           {
            "colorbar": {
             "outlinewidth": 0,
             "ticks": ""
            },
            "type": "choropleth"
           }
          ],
          "contour": [
           {
            "colorbar": {
             "outlinewidth": 0,
             "ticks": ""
            },
            "colorscale": [
             [
              0,
              "#0d0887"
             ],
             [
              0.1111111111111111,
              "#46039f"
             ],
             [
              0.2222222222222222,
              "#7201a8"
             ],
             [
              0.3333333333333333,
              "#9c179e"
             ],
             [
              0.4444444444444444,
              "#bd3786"
             ],
             [
              0.5555555555555556,
              "#d8576b"
             ],
             [
              0.6666666666666666,
              "#ed7953"
             ],
             [
              0.7777777777777778,
              "#fb9f3a"
             ],
             [
              0.8888888888888888,
              "#fdca26"
             ],
             [
              1,
              "#f0f921"
             ]
            ],
            "type": "contour"
           }
          ],
          "contourcarpet": [
           {
            "colorbar": {
             "outlinewidth": 0,
             "ticks": ""
            },
            "type": "contourcarpet"
           }
          ],
          "heatmap": [
           {
            "colorbar": {
             "outlinewidth": 0,
             "ticks": ""
            },
            "colorscale": [
             [
              0,
              "#0d0887"
             ],
             [
              0.1111111111111111,
              "#46039f"
             ],
             [
              0.2222222222222222,
              "#7201a8"
             ],
             [
              0.3333333333333333,
              "#9c179e"
             ],
             [
              0.4444444444444444,
              "#bd3786"
             ],
             [
              0.5555555555555556,
              "#d8576b"
             ],
             [
              0.6666666666666666,
              "#ed7953"
             ],
             [
              0.7777777777777778,
              "#fb9f3a"
             ],
             [
              0.8888888888888888,
              "#fdca26"
             ],
             [
              1,
              "#f0f921"
             ]
            ],
            "type": "heatmap"
           }
          ],
          "heatmapgl": [
           {
            "colorbar": {
             "outlinewidth": 0,
             "ticks": ""
            },
            "colorscale": [
             [
              0,
              "#0d0887"
             ],
             [
              0.1111111111111111,
              "#46039f"
             ],
             [
              0.2222222222222222,
              "#7201a8"
             ],
             [
              0.3333333333333333,
              "#9c179e"
             ],
             [
              0.4444444444444444,
              "#bd3786"
             ],
             [
              0.5555555555555556,
              "#d8576b"
             ],
             [
              0.6666666666666666,
              "#ed7953"
             ],
             [
              0.7777777777777778,
              "#fb9f3a"
             ],
             [
              0.8888888888888888,
              "#fdca26"
             ],
             [
              1,
              "#f0f921"
             ]
            ],
            "type": "heatmapgl"
           }
          ],
          "histogram": [
           {
            "marker": {
             "pattern": {
              "fillmode": "overlay",
              "size": 10,
              "solidity": 0.2
             }
            },
            "type": "histogram"
           }
          ],
          "histogram2d": [
           {
            "colorbar": {
             "outlinewidth": 0,
             "ticks": ""
            },
            "colorscale": [
             [
              0,
              "#0d0887"
             ],
             [
              0.1111111111111111,
              "#46039f"
             ],
             [
              0.2222222222222222,
              "#7201a8"
             ],
             [
              0.3333333333333333,
              "#9c179e"
             ],
             [
              0.4444444444444444,
              "#bd3786"
             ],
             [
              0.5555555555555556,
              "#d8576b"
             ],
             [
              0.6666666666666666,
              "#ed7953"
             ],
             [
              0.7777777777777778,
              "#fb9f3a"
             ],
             [
              0.8888888888888888,
              "#fdca26"
             ],
             [
              1,
              "#f0f921"
             ]
            ],
            "type": "histogram2d"
           }
          ],
          "histogram2dcontour": [
           {
            "colorbar": {
             "outlinewidth": 0,
             "ticks": ""
            },
            "colorscale": [
             [
              0,
              "#0d0887"
             ],
             [
              0.1111111111111111,
              "#46039f"
             ],
             [
              0.2222222222222222,
              "#7201a8"
             ],
             [
              0.3333333333333333,
              "#9c179e"
             ],
             [
              0.4444444444444444,
              "#bd3786"
             ],
             [
              0.5555555555555556,
              "#d8576b"
             ],
             [
              0.6666666666666666,
              "#ed7953"
             ],
             [
              0.7777777777777778,
              "#fb9f3a"
             ],
             [
              0.8888888888888888,
              "#fdca26"
             ],
             [
              1,
              "#f0f921"
             ]
            ],
            "type": "histogram2dcontour"
           }
          ],
          "mesh3d": [
           {
            "colorbar": {
             "outlinewidth": 0,
             "ticks": ""
            },
            "type": "mesh3d"
           }
          ],
          "parcoords": [
           {
            "line": {
             "colorbar": {
              "outlinewidth": 0,
              "ticks": ""
             }
            },
            "type": "parcoords"
           }
          ],
          "pie": [
           {
            "automargin": true,
            "type": "pie"
           }
          ],
          "scatter": [
           {
            "marker": {
             "line": {
              "color": "#283442"
             }
            },
            "type": "scatter"
           }
          ],
          "scatter3d": [
           {
            "line": {
             "colorbar": {
              "outlinewidth": 0,
              "ticks": ""
             }
            },
            "marker": {
             "colorbar": {
              "outlinewidth": 0,
              "ticks": ""
             }
            },
            "type": "scatter3d"
           }
          ],
          "scattercarpet": [
           {
            "marker": {
             "colorbar": {
              "outlinewidth": 0,
              "ticks": ""
             }
            },
            "type": "scattercarpet"
           }
          ],
          "scattergeo": [
           {
            "marker": {
             "colorbar": {
              "outlinewidth": 0,
              "ticks": ""
             }
            },
            "type": "scattergeo"
           }
          ],
          "scattergl": [
           {
            "marker": {
             "line": {
              "color": "#283442"
             }
            },
            "type": "scattergl"
           }
          ],
          "scattermapbox": [
           {
            "marker": {
             "colorbar": {
              "outlinewidth": 0,
              "ticks": ""
             }
            },
            "type": "scattermapbox"
           }
          ],
          "scatterpolar": [
           {
            "marker": {
             "colorbar": {
              "outlinewidth": 0,
              "ticks": ""
             }
            },
            "type": "scatterpolar"
           }
          ],
          "scatterpolargl": [
           {
            "marker": {
             "colorbar": {
              "outlinewidth": 0,
              "ticks": ""
             }
            },
            "type": "scatterpolargl"
           }
          ],
          "scatterternary": [
           {
            "marker": {
             "colorbar": {
              "outlinewidth": 0,
              "ticks": ""
             }
            },
            "type": "scatterternary"
           }
          ],
          "surface": [
           {
            "colorbar": {
             "outlinewidth": 0,
             "ticks": ""
            },
            "colorscale": [
             [
              0,
              "#0d0887"
             ],
             [
              0.1111111111111111,
              "#46039f"
             ],
             [
              0.2222222222222222,
              "#7201a8"
             ],
             [
              0.3333333333333333,
              "#9c179e"
             ],
             [
              0.4444444444444444,
              "#bd3786"
             ],
             [
              0.5555555555555556,
              "#d8576b"
             ],
             [
              0.6666666666666666,
              "#ed7953"
             ],
             [
              0.7777777777777778,
              "#fb9f3a"
             ],
             [
              0.8888888888888888,
              "#fdca26"
             ],
             [
              1,
              "#f0f921"
             ]
            ],
            "type": "surface"
           }
          ],
          "table": [
           {
            "cells": {
             "fill": {
              "color": "#506784"
             },
             "line": {
              "color": "rgb(17,17,17)"
             }
            },
            "header": {
             "fill": {
              "color": "#2a3f5f"
             },
             "line": {
              "color": "rgb(17,17,17)"
             }
            },
            "type": "table"
           }
          ]
         },
         "layout": {
          "annotationdefaults": {
           "arrowcolor": "#f2f5fa",
           "arrowhead": 0,
           "arrowwidth": 1
          },
          "autotypenumbers": "strict",
          "coloraxis": {
           "colorbar": {
            "outlinewidth": 0,
            "ticks": ""
           }
          },
          "colorscale": {
           "diverging": [
            [
             0,
             "#8e0152"
            ],
            [
             0.1,
             "#c51b7d"
            ],
            [
             0.2,
             "#de77ae"
            ],
            [
             0.3,
             "#f1b6da"
            ],
            [
             0.4,
             "#fde0ef"
            ],
            [
             0.5,
             "#f7f7f7"
            ],
            [
             0.6,
             "#e6f5d0"
            ],
            [
             0.7,
             "#b8e186"
            ],
            [
             0.8,
             "#7fbc41"
            ],
            [
             0.9,
             "#4d9221"
            ],
            [
             1,
             "#276419"
            ]
           ],
           "sequential": [
            [
             0,
             "#0d0887"
            ],
            [
             0.1111111111111111,
             "#46039f"
            ],
            [
             0.2222222222222222,
             "#7201a8"
            ],
            [
             0.3333333333333333,
             "#9c179e"
            ],
            [
             0.4444444444444444,
             "#bd3786"
            ],
            [
             0.5555555555555556,
             "#d8576b"
            ],
            [
             0.6666666666666666,
             "#ed7953"
            ],
            [
             0.7777777777777778,
             "#fb9f3a"
            ],
            [
             0.8888888888888888,
             "#fdca26"
            ],
            [
             1,
             "#f0f921"
            ]
           ],
           "sequentialminus": [
            [
             0,
             "#0d0887"
            ],
            [
             0.1111111111111111,
             "#46039f"
            ],
            [
             0.2222222222222222,
             "#7201a8"
            ],
            [
             0.3333333333333333,
             "#9c179e"
            ],
            [
             0.4444444444444444,
             "#bd3786"
            ],
            [
             0.5555555555555556,
             "#d8576b"
            ],
            [
             0.6666666666666666,
             "#ed7953"
            ],
            [
             0.7777777777777778,
             "#fb9f3a"
            ],
            [
             0.8888888888888888,
             "#fdca26"
            ],
            [
             1,
             "#f0f921"
            ]
           ]
          },
          "colorway": [
           "#636efa",
           "#EF553B",
           "#00cc96",
           "#ab63fa",
           "#FFA15A",
           "#19d3f3",
           "#FF6692",
           "#B6E880",
           "#FF97FF",
           "#FECB52"
          ],
          "font": {
           "color": "#f2f5fa"
          },
          "geo": {
           "bgcolor": "rgb(17,17,17)",
           "lakecolor": "rgb(17,17,17)",
           "landcolor": "rgb(17,17,17)",
           "showlakes": true,
           "showland": true,
           "subunitcolor": "#506784"
          },
          "hoverlabel": {
           "align": "left"
          },
          "hovermode": "closest",
          "mapbox": {
           "style": "dark"
          },
          "paper_bgcolor": "rgb(17,17,17)",
          "plot_bgcolor": "rgb(17,17,17)",
          "polar": {
           "angularaxis": {
            "gridcolor": "#506784",
            "linecolor": "#506784",
            "ticks": ""
           },
           "bgcolor": "rgb(17,17,17)",
           "radialaxis": {
            "gridcolor": "#506784",
            "linecolor": "#506784",
            "ticks": ""
           }
          },
          "scene": {
           "xaxis": {
            "backgroundcolor": "rgb(17,17,17)",
            "gridcolor": "#506784",
            "gridwidth": 2,
            "linecolor": "#506784",
            "showbackground": true,
            "ticks": "",
            "zerolinecolor": "#C8D4E3"
           },
           "yaxis": {
            "backgroundcolor": "rgb(17,17,17)",
            "gridcolor": "#506784",
            "gridwidth": 2,
            "linecolor": "#506784",
            "showbackground": true,
            "ticks": "",
            "zerolinecolor": "#C8D4E3"
           },
           "zaxis": {
            "backgroundcolor": "rgb(17,17,17)",
            "gridcolor": "#506784",
            "gridwidth": 2,
            "linecolor": "#506784",
            "showbackground": true,
            "ticks": "",
            "zerolinecolor": "#C8D4E3"
           }
          },
          "shapedefaults": {
           "line": {
            "color": "#f2f5fa"
           }
          },
          "sliderdefaults": {
           "bgcolor": "#C8D4E3",
           "bordercolor": "rgb(17,17,17)",
           "borderwidth": 1,
           "tickwidth": 0
          },
          "ternary": {
           "aaxis": {
            "gridcolor": "#506784",
            "linecolor": "#506784",
            "ticks": ""
           },
           "baxis": {
            "gridcolor": "#506784",
            "linecolor": "#506784",
            "ticks": ""
           },
           "bgcolor": "rgb(17,17,17)",
           "caxis": {
            "gridcolor": "#506784",
            "linecolor": "#506784",
            "ticks": ""
           }
          },
          "title": {
           "x": 0.05
          },
          "updatemenudefaults": {
           "bgcolor": "#506784",
           "borderwidth": 0
          },
          "xaxis": {
           "automargin": true,
           "gridcolor": "#283442",
           "linecolor": "#506784",
           "ticks": "",
           "title": {
            "standoff": 15
           },
           "zerolinecolor": "#283442",
           "zerolinewidth": 2
          },
          "yaxis": {
           "automargin": true,
           "gridcolor": "#283442",
           "linecolor": "#506784",
           "ticks": "",
           "title": {
            "standoff": 15
           },
           "zerolinecolor": "#283442",
           "zerolinewidth": 2
          }
         }
        },
        "xaxis": {
         "anchor": "y",
         "domain": [
          0,
          1
         ],
         "title": {
          "text": "pokemon"
         }
        },
        "yaxis": {
         "anchor": "x",
         "domain": [
          0,
          1
         ],
         "title": {
          "text": "effectiveness"
         }
        }
       }
      },
      "text/html": [
       "<div>                            <div id=\"ff3c94b4-6863-401c-baf2-d249f5a5b5bc\" class=\"plotly-graph-div\" style=\"height:525px; width:100%;\"></div>            <script type=\"text/javascript\">                require([\"plotly\"], function(Plotly) {                    window.PLOTLYENV=window.PLOTLYENV || {};                                    if (document.getElementById(\"ff3c94b4-6863-401c-baf2-d249f5a5b5bc\")) {                    Plotly.newPlot(                        \"ff3c94b4-6863-401c-baf2-d249f5a5b5bc\",                        [{\"alignmentgroup\":\"True\",\"error_y\":{\"array\":[0.023868325657594204,0.04760952285695233,0.014070529413628968,0.01714466079977653,0.0]},\"hovertemplate\":\"ball=pokeball\\u003cbr\\u003epokemon=%{x}\\u003cbr\\u003eeffectiveness=%{y}\\u003cextra\\u003e\\u003c\\u002fextra\\u003e\",\"legendgroup\":\"pokeball\",\"marker\":{\"color\":\"#636efa\",\"pattern\":{\"shape\":\"\"}},\"name\":\"pokeball\",\"offsetgroup\":\"pokeball\",\"orientation\":\"v\",\"showlegend\":true,\"textposition\":\"auto\",\"x\":[\"jolteon\",\"caterpie\",\"snorlax\",\"onix\",\"mewtwo\"],\"xaxis\":\"x\",\"y\":[0.06,0.34,0.02,0.03,0.0],\"yaxis\":\"y\",\"type\":\"bar\"},{\"alignmentgroup\":\"True\",\"error_y\":{\"array\":[0.033799766898963114,0.04725815626252609,0.028762349126466136,0.021904291355759033,0.01]},\"hovertemplate\":\"ball=ultraball\\u003cbr\\u003epokemon=%{x}\\u003cbr\\u003eeffectiveness=%{y}\\u003cextra\\u003e\\u003c\\u002fextra\\u003e\",\"legendgroup\":\"ultraball\",\"marker\":{\"color\":\"#EF553B\",\"pattern\":{\"shape\":\"\"}},\"name\":\"ultraball\",\"offsetgroup\":\"ultraball\",\"orientation\":\"v\",\"showlegend\":true,\"textposition\":\"auto\",\"x\":[\"jolteon\",\"caterpie\",\"snorlax\",\"onix\",\"mewtwo\"],\"xaxis\":\"x\",\"y\":[0.13,0.67,0.09,0.05,0.01],\"yaxis\":\"y\",\"type\":\"bar\"},{\"alignmentgroup\":\"True\",\"error_y\":{\"array\":[0.04020151261036849,0.045126085985421296,0.01,0.01714466079977653,0.01714466079977653]},\"hovertemplate\":\"ball=fastball\\u003cbr\\u003epokemon=%{x}\\u003cbr\\u003eeffectiveness=%{y}\\u003cextra\\u003e\\u003c\\u002fextra\\u003e\",\"legendgroup\":\"fastball\",\"marker\":{\"color\":\"#00cc96\",\"pattern\":{\"shape\":\"\"}},\"name\":\"fastball\",\"offsetgroup\":\"fastball\",\"orientation\":\"v\",\"showlegend\":true,\"textposition\":\"auto\",\"x\":[\"jolteon\",\"caterpie\",\"snorlax\",\"onix\",\"mewtwo\"],\"xaxis\":\"x\",\"y\":[0.2,0.28,0.01,0.03,0.03],\"yaxis\":\"y\",\"type\":\"bar\"},{\"alignmentgroup\":\"True\",\"error_y\":{\"array\":[0.019694638556693237,0.0440844002276808,0.03015113445777636,0.028762349126466136,0.0]},\"hovertemplate\":\"ball=heavyball\\u003cbr\\u003epokemon=%{x}\\u003cbr\\u003eeffectiveness=%{y}\\u003cextra\\u003e\\u003c\\u002fextra\\u003e\",\"legendgroup\":\"heavyball\",\"marker\":{\"color\":\"#ab63fa\",\"pattern\":{\"shape\":\"\"}},\"name\":\"heavyball\",\"offsetgroup\":\"heavyball\",\"orientation\":\"v\",\"showlegend\":true,\"textposition\":\"auto\",\"x\":[\"jolteon\",\"caterpie\",\"snorlax\",\"onix\",\"mewtwo\"],\"xaxis\":\"x\",\"y\":[0.04,0.26,0.1,0.09,0.0],\"yaxis\":\"y\",\"type\":\"bar\"}],                        {\"template\":{\"data\":{\"histogram2dcontour\":[{\"type\":\"histogram2dcontour\",\"colorbar\":{\"outlinewidth\":0,\"ticks\":\"\"},\"colorscale\":[[0.0,\"#0d0887\"],[0.1111111111111111,\"#46039f\"],[0.2222222222222222,\"#7201a8\"],[0.3333333333333333,\"#9c179e\"],[0.4444444444444444,\"#bd3786\"],[0.5555555555555556,\"#d8576b\"],[0.6666666666666666,\"#ed7953\"],[0.7777777777777778,\"#fb9f3a\"],[0.8888888888888888,\"#fdca26\"],[1.0,\"#f0f921\"]]}],\"choropleth\":[{\"type\":\"choropleth\",\"colorbar\":{\"outlinewidth\":0,\"ticks\":\"\"}}],\"histogram2d\":[{\"type\":\"histogram2d\",\"colorbar\":{\"outlinewidth\":0,\"ticks\":\"\"},\"colorscale\":[[0.0,\"#0d0887\"],[0.1111111111111111,\"#46039f\"],[0.2222222222222222,\"#7201a8\"],[0.3333333333333333,\"#9c179e\"],[0.4444444444444444,\"#bd3786\"],[0.5555555555555556,\"#d8576b\"],[0.6666666666666666,\"#ed7953\"],[0.7777777777777778,\"#fb9f3a\"],[0.8888888888888888,\"#fdca26\"],[1.0,\"#f0f921\"]]}],\"heatmap\":[{\"type\":\"heatmap\",\"colorbar\":{\"outlinewidth\":0,\"ticks\":\"\"},\"colorscale\":[[0.0,\"#0d0887\"],[0.1111111111111111,\"#46039f\"],[0.2222222222222222,\"#7201a8\"],[0.3333333333333333,\"#9c179e\"],[0.4444444444444444,\"#bd3786\"],[0.5555555555555556,\"#d8576b\"],[0.6666666666666666,\"#ed7953\"],[0.7777777777777778,\"#fb9f3a\"],[0.8888888888888888,\"#fdca26\"],[1.0,\"#f0f921\"]]}],\"heatmapgl\":[{\"type\":\"heatmapgl\",\"colorbar\":{\"outlinewidth\":0,\"ticks\":\"\"},\"colorscale\":[[0.0,\"#0d0887\"],[0.1111111111111111,\"#46039f\"],[0.2222222222222222,\"#7201a8\"],[0.3333333333333333,\"#9c179e\"],[0.4444444444444444,\"#bd3786\"],[0.5555555555555556,\"#d8576b\"],[0.6666666666666666,\"#ed7953\"],[0.7777777777777778,\"#fb9f3a\"],[0.8888888888888888,\"#fdca26\"],[1.0,\"#f0f921\"]]}],\"contourcarpet\":[{\"type\":\"contourcarpet\",\"colorbar\":{\"outlinewidth\":0,\"ticks\":\"\"}}],\"contour\":[{\"type\":\"contour\",\"colorbar\":{\"outlinewidth\":0,\"ticks\":\"\"},\"colorscale\":[[0.0,\"#0d0887\"],[0.1111111111111111,\"#46039f\"],[0.2222222222222222,\"#7201a8\"],[0.3333333333333333,\"#9c179e\"],[0.4444444444444444,\"#bd3786\"],[0.5555555555555556,\"#d8576b\"],[0.6666666666666666,\"#ed7953\"],[0.7777777777777778,\"#fb9f3a\"],[0.8888888888888888,\"#fdca26\"],[1.0,\"#f0f921\"]]}],\"surface\":[{\"type\":\"surface\",\"colorbar\":{\"outlinewidth\":0,\"ticks\":\"\"},\"colorscale\":[[0.0,\"#0d0887\"],[0.1111111111111111,\"#46039f\"],[0.2222222222222222,\"#7201a8\"],[0.3333333333333333,\"#9c179e\"],[0.4444444444444444,\"#bd3786\"],[0.5555555555555556,\"#d8576b\"],[0.6666666666666666,\"#ed7953\"],[0.7777777777777778,\"#fb9f3a\"],[0.8888888888888888,\"#fdca26\"],[1.0,\"#f0f921\"]]}],\"mesh3d\":[{\"type\":\"mesh3d\",\"colorbar\":{\"outlinewidth\":0,\"ticks\":\"\"}}],\"scatter\":[{\"marker\":{\"line\":{\"color\":\"#283442\"}},\"type\":\"scatter\"}],\"parcoords\":[{\"type\":\"parcoords\",\"line\":{\"colorbar\":{\"outlinewidth\":0,\"ticks\":\"\"}}}],\"scatterpolargl\":[{\"type\":\"scatterpolargl\",\"marker\":{\"colorbar\":{\"outlinewidth\":0,\"ticks\":\"\"}}}],\"bar\":[{\"error_x\":{\"color\":\"#f2f5fa\"},\"error_y\":{\"color\":\"#f2f5fa\"},\"marker\":{\"line\":{\"color\":\"rgb(17,17,17)\",\"width\":0.5},\"pattern\":{\"fillmode\":\"overlay\",\"size\":10,\"solidity\":0.2}},\"type\":\"bar\"}],\"scattergeo\":[{\"type\":\"scattergeo\",\"marker\":{\"colorbar\":{\"outlinewidth\":0,\"ticks\":\"\"}}}],\"scatterpolar\":[{\"type\":\"scatterpolar\",\"marker\":{\"colorbar\":{\"outlinewidth\":0,\"ticks\":\"\"}}}],\"histogram\":[{\"marker\":{\"pattern\":{\"fillmode\":\"overlay\",\"size\":10,\"solidity\":0.2}},\"type\":\"histogram\"}],\"scattergl\":[{\"marker\":{\"line\":{\"color\":\"#283442\"}},\"type\":\"scattergl\"}],\"scatter3d\":[{\"type\":\"scatter3d\",\"line\":{\"colorbar\":{\"outlinewidth\":0,\"ticks\":\"\"}},\"marker\":{\"colorbar\":{\"outlinewidth\":0,\"ticks\":\"\"}}}],\"scattermapbox\":[{\"type\":\"scattermapbox\",\"marker\":{\"colorbar\":{\"outlinewidth\":0,\"ticks\":\"\"}}}],\"scatterternary\":[{\"type\":\"scatterternary\",\"marker\":{\"colorbar\":{\"outlinewidth\":0,\"ticks\":\"\"}}}],\"scattercarpet\":[{\"type\":\"scattercarpet\",\"marker\":{\"colorbar\":{\"outlinewidth\":0,\"ticks\":\"\"}}}],\"carpet\":[{\"aaxis\":{\"endlinecolor\":\"#A2B1C6\",\"gridcolor\":\"#506784\",\"linecolor\":\"#506784\",\"minorgridcolor\":\"#506784\",\"startlinecolor\":\"#A2B1C6\"},\"baxis\":{\"endlinecolor\":\"#A2B1C6\",\"gridcolor\":\"#506784\",\"linecolor\":\"#506784\",\"minorgridcolor\":\"#506784\",\"startlinecolor\":\"#A2B1C6\"},\"type\":\"carpet\"}],\"table\":[{\"cells\":{\"fill\":{\"color\":\"#506784\"},\"line\":{\"color\":\"rgb(17,17,17)\"}},\"header\":{\"fill\":{\"color\":\"#2a3f5f\"},\"line\":{\"color\":\"rgb(17,17,17)\"}},\"type\":\"table\"}],\"barpolar\":[{\"marker\":{\"line\":{\"color\":\"rgb(17,17,17)\",\"width\":0.5},\"pattern\":{\"fillmode\":\"overlay\",\"size\":10,\"solidity\":0.2}},\"type\":\"barpolar\"}],\"pie\":[{\"automargin\":true,\"type\":\"pie\"}]},\"layout\":{\"autotypenumbers\":\"strict\",\"colorway\":[\"#636efa\",\"#EF553B\",\"#00cc96\",\"#ab63fa\",\"#FFA15A\",\"#19d3f3\",\"#FF6692\",\"#B6E880\",\"#FF97FF\",\"#FECB52\"],\"font\":{\"color\":\"#f2f5fa\"},\"hovermode\":\"closest\",\"hoverlabel\":{\"align\":\"left\"},\"paper_bgcolor\":\"rgb(17,17,17)\",\"plot_bgcolor\":\"rgb(17,17,17)\",\"polar\":{\"bgcolor\":\"rgb(17,17,17)\",\"angularaxis\":{\"gridcolor\":\"#506784\",\"linecolor\":\"#506784\",\"ticks\":\"\"},\"radialaxis\":{\"gridcolor\":\"#506784\",\"linecolor\":\"#506784\",\"ticks\":\"\"}},\"ternary\":{\"bgcolor\":\"rgb(17,17,17)\",\"aaxis\":{\"gridcolor\":\"#506784\",\"linecolor\":\"#506784\",\"ticks\":\"\"},\"baxis\":{\"gridcolor\":\"#506784\",\"linecolor\":\"#506784\",\"ticks\":\"\"},\"caxis\":{\"gridcolor\":\"#506784\",\"linecolor\":\"#506784\",\"ticks\":\"\"}},\"coloraxis\":{\"colorbar\":{\"outlinewidth\":0,\"ticks\":\"\"}},\"colorscale\":{\"sequential\":[[0.0,\"#0d0887\"],[0.1111111111111111,\"#46039f\"],[0.2222222222222222,\"#7201a8\"],[0.3333333333333333,\"#9c179e\"],[0.4444444444444444,\"#bd3786\"],[0.5555555555555556,\"#d8576b\"],[0.6666666666666666,\"#ed7953\"],[0.7777777777777778,\"#fb9f3a\"],[0.8888888888888888,\"#fdca26\"],[1.0,\"#f0f921\"]],\"sequentialminus\":[[0.0,\"#0d0887\"],[0.1111111111111111,\"#46039f\"],[0.2222222222222222,\"#7201a8\"],[0.3333333333333333,\"#9c179e\"],[0.4444444444444444,\"#bd3786\"],[0.5555555555555556,\"#d8576b\"],[0.6666666666666666,\"#ed7953\"],[0.7777777777777778,\"#fb9f3a\"],[0.8888888888888888,\"#fdca26\"],[1.0,\"#f0f921\"]],\"diverging\":[[0,\"#8e0152\"],[0.1,\"#c51b7d\"],[0.2,\"#de77ae\"],[0.3,\"#f1b6da\"],[0.4,\"#fde0ef\"],[0.5,\"#f7f7f7\"],[0.6,\"#e6f5d0\"],[0.7,\"#b8e186\"],[0.8,\"#7fbc41\"],[0.9,\"#4d9221\"],[1,\"#276419\"]]},\"xaxis\":{\"gridcolor\":\"#283442\",\"linecolor\":\"#506784\",\"ticks\":\"\",\"title\":{\"standoff\":15},\"zerolinecolor\":\"#283442\",\"automargin\":true,\"zerolinewidth\":2},\"yaxis\":{\"gridcolor\":\"#283442\",\"linecolor\":\"#506784\",\"ticks\":\"\",\"title\":{\"standoff\":15},\"zerolinecolor\":\"#283442\",\"automargin\":true,\"zerolinewidth\":2},\"scene\":{\"xaxis\":{\"backgroundcolor\":\"rgb(17,17,17)\",\"gridcolor\":\"#506784\",\"linecolor\":\"#506784\",\"showbackground\":true,\"ticks\":\"\",\"zerolinecolor\":\"#C8D4E3\",\"gridwidth\":2},\"yaxis\":{\"backgroundcolor\":\"rgb(17,17,17)\",\"gridcolor\":\"#506784\",\"linecolor\":\"#506784\",\"showbackground\":true,\"ticks\":\"\",\"zerolinecolor\":\"#C8D4E3\",\"gridwidth\":2},\"zaxis\":{\"backgroundcolor\":\"rgb(17,17,17)\",\"gridcolor\":\"#506784\",\"linecolor\":\"#506784\",\"showbackground\":true,\"ticks\":\"\",\"zerolinecolor\":\"#C8D4E3\",\"gridwidth\":2}},\"shapedefaults\":{\"line\":{\"color\":\"#f2f5fa\"}},\"annotationdefaults\":{\"arrowcolor\":\"#f2f5fa\",\"arrowhead\":0,\"arrowwidth\":1},\"geo\":{\"bgcolor\":\"rgb(17,17,17)\",\"landcolor\":\"rgb(17,17,17)\",\"subunitcolor\":\"#506784\",\"showland\":true,\"showlakes\":true,\"lakecolor\":\"rgb(17,17,17)\"},\"title\":{\"x\":0.05},\"updatemenudefaults\":{\"bgcolor\":\"#506784\",\"borderwidth\":0},\"sliderdefaults\":{\"bgcolor\":\"#C8D4E3\",\"borderwidth\":1,\"bordercolor\":\"rgb(17,17,17)\",\"tickwidth\":0},\"mapbox\":{\"style\":\"dark\"}}},\"xaxis\":{\"anchor\":\"y\",\"domain\":[0.0,1.0],\"title\":{\"text\":\"pokemon\"}},\"yaxis\":{\"anchor\":\"x\",\"domain\":[0.0,1.0],\"title\":{\"text\":\"effectiveness\"}},\"legend\":{\"title\":{\"text\":\"ball\"},\"tracegroupgap\":0},\"margin\":{\"t\":60},\"barmode\":\"group\"},                        {\"responsive\": true}                    ).then(function(){\n",
       "                            \n",
       "var gd = document.getElementById('ff3c94b4-6863-401c-baf2-d249f5a5b5bc');\n",
       "var x = new MutationObserver(function (mutations, observer) {{\n",
       "        var display = window.getComputedStyle(gd).display;\n",
       "        if (!display || display === 'none') {{\n",
       "            console.log([gd, 'removed!']);\n",
       "            Plotly.purge(gd);\n",
       "            observer.disconnect();\n",
       "        }}\n",
       "}});\n",
       "\n",
       "// Listen for the removal of the full notebook cells\n",
       "var notebookContainer = gd.closest('#notebook-container');\n",
       "if (notebookContainer) {{\n",
       "    x.observe(notebookContainer, {childList: true});\n",
       "}}\n",
       "\n",
       "// Listen for the clearing of the current output cell\n",
       "var outputEl = gd.closest('.output');\n",
       "if (outputEl) {{\n",
       "    x.observe(outputEl, {childList: true});\n",
       "}}\n",
       "\n",
       "                        })                };                });            </script>        </div>"
      ]
     },
     "metadata": {},
     "output_type": "display_data"
    }
   ],
   "source": [
    "import plotly.express as px\n",
    "px.bar(df, x='pokemon', y='effectiveness', error_y='error', color='ball', barmode='group')"
   ]
  },
  {
   "cell_type": "markdown",
   "id": "3848d00a5042ac91",
   "metadata": {
    "collapsed": false
   },
   "source": [
    "# Ej 2a"
   ]
  },
  {
   "cell_type": "code",
   "execution_count": 19,
   "id": "7aa3e4ee45e6fc91",
   "metadata": {
    "ExecuteTime": {
     "end_time": "2023-08-14T19:48:12.893471Z",
     "start_time": "2023-08-14T19:48:12.879217Z"
    },
    "collapsed": false
   },
   "outputs": [],
   "source": [
    "def create_pokemons_by_status(name: str, lvl: int, statusses: List[str], health: float) -> List[Pokemon]:\n",
    "    factory = PokemonFactory(\"pokemon.json\")\n",
    "    pokemons_to_ret: List[Pokemon] = []\n",
    "    for status in statusses:\n",
    "        pokemons_to_ret.append(factory.create(name, lvl, StatusEffect.from_value(status), health))\n",
    "    return pokemons_to_ret\n"
   ]
  },
  {
   "cell_type": "code",
   "execution_count": 20,
   "id": "f3eca0e6507c9a70",
   "metadata": {
    "ExecuteTime": {
     "end_time": "2023-08-14T19:48:21.499862Z",
     "start_time": "2023-08-14T19:48:21.484653Z"
    },
    "collapsed": false
   },
   "outputs": [],
   "source": [
    "factory = PokemonFactory(\"pokemon.json\")\n",
    "\n",
    "with open(get_config_dir().joinpath(\"Ej2a.json\"), \"r\") as config_f_2a:\n",
    "    config_2a = json.load(config_f_2a)\n",
    "\n",
    "pokemon_name = config_2a[\"pokemon_name\"]\n",
    "statuses = config_2a[\"statuses\"]\n",
    "level = config_2a[\"level\"]\n",
    "pokeballs = config_2a[\"pokeballs\"]\n",
    "hp = config_2a[\"hp\"]\n",
    "iterations = config_2a[\"iterations\"]\n",
    "pokemon_names = config_2a[\"pokemons\"]\n",
    "pokemons = create_pokemons_by_status(pokemon_name,level,statuses,hp)\n"
   ]
  },
  {
   "cell_type": "code",
   "execution_count": 21,
   "id": "a4ed13b8f0b5d7ba",
   "metadata": {
    "ExecuteTime": {
     "end_time": "2023-08-14T19:52:49.787047Z",
     "start_time": "2023-08-14T19:52:49.530998Z"
    },
    "collapsed": false
   },
   "outputs": [
    {
     "data": {
      "image/png": "[encoded data removed]",
      "text/plain": [
       "<Figure size 1000x600 with 4 Axes>"
      ]
     },
     "metadata": {},
     "output_type": "display_data"
    }
   ],
   "source": [
    "fig, axs = plt.subplots(2, 2, figsize=(10, 6)) \n",
    "\n",
    "for i, pokeball in enumerate(pokeballs):\n",
    "    catch_rates = []\n",
    "    errors = []\n",
    "    for pokemon in pokemons:\n",
    "        catch_rate, error = catch_pokemon(pokemon, pokeball, iterations)\n",
    "        catch_rates.append(catch_rate)\n",
    "        errors.append(error)\n",
    "        \n",
    "    row, col = divmod(i, 2)\n",
    "    \n",
    "    # Plot as a bar chart\n",
    "    axs[row, col].bar(statuses, catch_rates, yerr= errors, capsize=5, align='center')\n",
    "    axs[row, col].set_xlabel('Status')\n",
    "    axs[row, col].set_ylabel('Capture Rate')\n",
    "    axs[row, col].set_title(f\"Capture rate of {pokemon_name} with pokeball: \\\"{pokeball}\\\" in {iterations} attempts\", fontsize=10)\n",
    "   \n",
    "\n",
    "plt.tight_layout()\n",
    "plt.show()"
   ]
  },
  {
   "cell_type": "markdown",
   "id": "9a4359a5d0b42d98",
   "metadata": {
    "collapsed": false
   },
   "source": [
    "# Ej 2b"
   ]
  },
  {
   "cell_type": "markdown",
   "id": "3c23a80a",
   "metadata": {},
   "source": [
    "# Ej 2c"
   ]
  },
  {
   "cell_type": "code",
   "execution_count": 6,
   "id": "1f7c19e490d5b814",
   "metadata": {
    "collapsed": false
   },
   "outputs": [],
   "source": [
    "config_ej2c = open(get_config_dir().joinpath(EJ2_CONFIG),'r')\n",
    "def calculate_capture_rates(param, param_values):\n",
    "\n",
    "    def_poke_name =  config_ej2c[\"default_pokemon_name\"]\n",
    "    def_hp_percentage =  config_ej2c[\"default_hp\"]\n",
    "    def_level =  config_ej2c[\"default_level\"]\n",
    "    def_status = StatusEffect[ config_ej2c[\"default_status\"]]\n",
    "    def_pokeball =  config_ej2c[\"default_pokeball\"]\n",
    "\n",
    "    pokemon = factory.create(def_poke_name, def_level, def_status, def_hp_percentage)\n",
    "    pokeball = def_pokeball\n",
    "\n",
    "    capture_rates = []\n",
    "    for val in param_values:\n",
    "        if param == 'level':\n",
    "            pokemon = factory.create(def_poke_name, val, def_status, def_hp_percentage)\n",
    "        elif param == 'hp':\n",
    "            pokemon = factory.create(def_poke_name, def_level, def_status, val)\n",
    "        elif param == 'status':\n",
    "            pokemon = factory.create(def_poke_name, def_level, StatusEffect[val], def_hp_percentage)\n",
    "        elif param == 'pokeball':\n",
    "            pokeball = val\n",
    "\n",
    "        success, rate = attempt_catch(pokemon, pokeball)\n",
    "        capture_rates.append(rate)\n",
    "    return capture_rates"
   ]
  },
  {
   "cell_type": "code",
   "execution_count": 7,
   "id": "6602cf9b",
   "metadata": {},
   "outputs": [
    {
     "data": {
      "image/png": "[encoded data removed]",
      "text/plain": [
       "<Figure size 1000x800 with 4 Axes>"
      ]
     },
     "metadata": {},
     "output_type": "display_data"
    }
   ],
   "source": [
    "\n",
    "factory = PokemonFactory(get_src_str() + \"pokemon.json\")\n",
    "config_ej2c = json.load(open(get_config_dir().joinpath(EJ2_CONFIG), \"r\"))\n",
    "variables = ['level', 'hp', 'pokeball', 'status']\n",
    "plurals_by_variable = {key: value for key, value in zip(variables, ['levels', 'hps', 'pokeballs', 'statuses'])}\n",
    "widths = [3,0.1,0.5,0.4]\n",
    "\n",
    "fig, axs = plt.subplots(2, 2, figsize=(10, 8))\n",
    "\n",
    "for i, (variable, plural) in enumerate(plurals_by_variable.items()):\n",
    "    values_by_variable = config_ej2c[plural]\n",
    "    capture_rates = calculate_capture_rates(variable, values_by_variable)\n",
    "    row, col = divmod(i, 2)\n",
    "    max_value = max(capture_rates)\n",
    "    # Plot as a bar chart\n",
    "    axs[row, col].bar(values_by_variable, capture_rates, align='center', width=widths[i])\n",
    "    axs[row, col].set_xlabel(variable)\n",
    "    axs[row, col].set_ylabel('Capture Rate')\n",
    "    axs[row, col].set_ylim([0, max_value*1.2])\n",
    "    axs[row, col].set_title(f\"Capture rate vs {variable}\", fontsize=14)\n",
    "\n",
    "plt.tight_layout()\n",
    "plt.show()"
   ]
  },
  {
   "cell_type": "markdown",
   "id": "dac3f025",
   "metadata": {},
   "source": [
    "## Resolución\n",
    "A partir de los datos obtenidos, podemos concluir que tanto la elección de la Pokebola como la vida actual del Pokemon tienen un impacto significativo en la efectividad de la captura. En el caso de la Pokebola, el elegir una u otra, genera que las probabilidades de captura varíen considerablemente. En el caso de Caterpie, el aumento entre pasar de una Pokeball a una Ultraball es de casi el doble.\n",
    "\n",
    "Respecto al porcentaje de vida actual, se observa una relación aparentemente lineal con la tasa de captura, con los valores mínimos y máximos de probabilidad de captura variando entre diferentes tipos de Pokemon. Por ejemplo, para el caso de Caterpie vemos que la tasa de captura es de prácticamente el 100% cuando la vida se aproxima a cero, mientras que para Snorlax no logra superar el 10%.\n",
    "\n",
    "Por otro lado, el nivel del Pokemon es el único de los factores analizados que no parece tener impacto alguno en la probabilidad de captura.\n"
   ]
  },
  {
   "cell_type": "markdown",
   "id": "efb1980b1fe6f7ad",
   "metadata": {
    "collapsed": false
   },
   "source": [
    "# Ej 2d"
   ]
  },
  {
   "cell_type": "markdown",
   "id": "71fb1723c336cb91",
   "metadata": {
    "collapsed": false
   },
   "source": [
    "Dado que en el ejercicio 2c se puede ver que el nivel parece no influir en la probabilidad de captura, y que en el 2e se pide analizar qué pasa para otros niveles, se decidió usar para este ejercicio el nivel 100 para el pokemon Snorlax."
   ]
  },
  {
   "cell_type": "code",
   "execution_count": 111,
   "id": "c667de378f002a22",
   "metadata": {
    "ExecuteTime": {
     "end_time": "2023-08-14T19:54:21.556818Z",
     "start_time": "2023-08-14T19:54:21.547873Z"
    },
    "collapsed": false
   },
   "outputs": [],
   "source": [
    "def create_pokemon(name: str, lvl: int, status: str, health: float) -> Pokemon:\n",
    "    factory = PokemonFactory(\"pokemon.json\")\n",
    "    return factory.create(name, lvl, StatusEffect.from_value(status), health)\n",
    "\n",
    "def calculate_rates(statuses: List[str], hps: List[str], pokeballs: List[str], pokemon_name: str, level: int):\n",
    "    pokemon_rates = {}\n",
    "    for status in statuses:\n",
    "        for hp in hps:\n",
    "            for pokeball in pokeballs:\n",
    "                pokemon = create_pokemon(pokemon_name, level, status, hp )\n",
    "                caught, rate = attempt_catch(pokemon, pokeball, DEFAULT_NOISE)\n",
    "                pokemon_rates[(pokeball, status, hp, level)] = rate\n",
    "    return pokemon_rates"
   ]
  },
  {
   "cell_type": "code",
   "execution_count": 113,
   "id": "8fd27dd163a6117f",
   "metadata": {
    "ExecuteTime": {
     "end_time": "2023-08-14T19:54:31.471937Z",
     "start_time": "2023-08-14T19:54:31.446300Z"
    },
    "collapsed": false
   },
   "outputs": [
    {
     "name": "stdout",
     "output_type": "stream",
     "text": [
      "Para capturar a snorlax, la combinación de condiciones que conviene utilizar es:\n",
      "pokeball: heavyball \n",
      "status: sleep \n",
      "hp: 0.1\n",
      "con probabilidad: 0.4749\n"
     ]
    }
   ],
   "source": [
    "factory = PokemonFactory(\"pokemon.json\")\n",
    "\n",
    "with open(get_config_dir().joinpath(EJ2D_CONFIG), \"r\") as config_f_2d:\n",
    "    config_2d = json.load(config_f_2d)\n",
    "\n",
    "pokemon_name = config_2d[\"pokemon_name\"]\n",
    "hps = config_2d[\"hps\"]\n",
    "statuses = config_2d[\"statuses\"]\n",
    "level = config_2d[\"level\"]\n",
    "pokeballs = config_2d[\"pokeballs\"]\n",
    "\n",
    "pokemon_rates = calculate_rates(statuses, hps, pokeballs, pokemon_name, level)\n",
    "max_rate = max(pokemon_rates.values())\n",
    "for key, value in pokemon_rates.items():\n",
    "    if value == max_rate:\n",
    "        best_combination = key\n",
    "        break\n",
    "print(f\"Para capturar a {pokemon_name}, la combinación de condiciones que conviene utilizar es:\")\n",
    "print(f\"pokeball: {best_combination[0]} \\n\"\n",
    "      f\"status: {best_combination[1]} \\n\"\n",
    "      f\"hp: {best_combination[2]}\")\n",
    "print(f\"con probabilidad: {max_rate}\")"
   ]
  },
  {
   "cell_type": "markdown",
   "id": "3dc285ca67c5250f",
   "metadata": {
    "collapsed": false
   },
   "source": [
    "# Ej 2e"
   ]
  },
  {
   "cell_type": "code",
   "execution_count": 117,
   "id": "45ac9e008baf84ec",
   "metadata": {
    "ExecuteTime": {
     "end_time": "2023-08-14T19:57:27.536462Z",
     "start_time": "2023-08-14T19:57:26.072700Z"
    },
    "collapsed": false
   },
   "outputs": [
    {
     "name": "stdout",
     "output_type": "stream",
     "text": [
      "Nivel 1:\n",
      "  Mejor combinación: ('heavyball', 'sleep', 0.1, 1)\n",
      "  Probabilidad: 0.4837\n",
      "Nivel 2:\n",
      "  Mejor combinación: ('heavyball', 'sleep', 0.1, 2)\n",
      "  Probabilidad: 0.4853\n",
      "Nivel 3:\n",
      "  Mejor combinación: ('heavyball', 'sleep', 0.1, 3)\n",
      "  Probabilidad: 0.4867\n",
      "Nivel 4:\n",
      "  Mejor combinación: ('heavyball', 'sleep', 0.1, 4)\n",
      "  Probabilidad: 0.488\n",
      "Nivel 5:\n",
      "  Mejor combinación: ('heavyball', 'sleep', 0.1, 5)\n",
      "  Probabilidad: 0.4891\n",
      "Nivel 6:\n",
      "  Mejor combinación: ('heavyball', 'sleep', 0.1, 6)\n",
      "  Probabilidad: 0.4901\n",
      "Nivel 7:\n",
      "  Mejor combinación: ('heavyball', 'sleep', 0.1, 7)\n",
      "  Probabilidad: 0.474\n",
      "Nivel 8:\n",
      "  Mejor combinación: ('heavyball', 'sleep', 0.1, 8)\n",
      "  Probabilidad: 0.4756\n",
      "Nivel 9:\n",
      "  Mejor combinación: ('heavyball', 'sleep', 0.1, 9)\n",
      "  Probabilidad: 0.4771\n",
      "Nivel 10:\n",
      "  Mejor combinación: ('heavyball', 'sleep', 0.1, 10)\n",
      "  Probabilidad: 0.4784\n",
      "Nivel 11:\n",
      "  Mejor combinación: ('heavyball', 'sleep', 0.1, 11)\n",
      "  Probabilidad: 0.4797\n",
      "Nivel 12:\n",
      "  Mejor combinación: ('heavyball', 'sleep', 0.1, 12)\n",
      "  Probabilidad: 0.4808\n",
      "Nivel 13:\n",
      "  Mejor combinación: ('heavyball', 'sleep', 0.1, 13)\n",
      "  Probabilidad: 0.4818\n",
      "Nivel 14:\n",
      "  Mejor combinación: ('heavyball', 'sleep', 0.1, 14)\n",
      "  Probabilidad: 0.4828\n",
      "Nivel 15:\n",
      "  Mejor combinación: ('heavyball', 'sleep', 0.1, 15)\n",
      "  Probabilidad: 0.4837\n",
      "Nivel 16:\n",
      "  Mejor combinación: ('heavyball', 'sleep', 0.1, 16)\n",
      "  Probabilidad: 0.4845\n",
      "Nivel 17:\n",
      "  Mejor combinación: ('heavyball', 'sleep', 0.1, 17)\n",
      "  Probabilidad: 0.474\n",
      "Nivel 18:\n",
      "  Mejor combinación: ('heavyball', 'sleep', 0.1, 18)\n",
      "  Probabilidad: 0.4751\n",
      "Nivel 19:\n",
      "  Mejor combinación: ('heavyball', 'sleep', 0.1, 19)\n",
      "  Probabilidad: 0.4761\n",
      "Nivel 20:\n",
      "  Mejor combinación: ('heavyball', 'sleep', 0.1, 20)\n",
      "  Probabilidad: 0.4771\n",
      "Nivel 21:\n",
      "  Mejor combinación: ('heavyball', 'sleep', 0.1, 21)\n",
      "  Probabilidad: 0.478\n",
      "Nivel 22:\n",
      "  Mejor combinación: ('heavyball', 'sleep', 0.1, 22)\n",
      "  Probabilidad: 0.4788\n",
      "Nivel 23:\n",
      "  Mejor combinación: ('heavyball', 'sleep', 0.1, 23)\n",
      "  Probabilidad: 0.4796\n",
      "Nivel 24:\n",
      "  Mejor combinación: ('heavyball', 'sleep', 0.1, 24)\n",
      "  Probabilidad: 0.4804\n",
      "Nivel 25:\n",
      "  Mejor combinación: ('heavyball', 'sleep', 0.1, 25)\n",
      "  Probabilidad: 0.4811\n",
      "Nivel 26:\n",
      "  Mejor combinación: ('heavyball', 'sleep', 0.1, 26)\n",
      "  Probabilidad: 0.4818\n",
      "Nivel 27:\n",
      "  Mejor combinación: ('heavyball', 'sleep', 0.1, 27)\n",
      "  Probabilidad: 0.474\n",
      "Nivel 28:\n",
      "  Mejor combinación: ('heavyball', 'sleep', 0.1, 28)\n",
      "  Probabilidad: 0.4748\n",
      "Nivel 29:\n",
      "  Mejor combinación: ('heavyball', 'sleep', 0.1, 29)\n",
      "  Probabilidad: 0.4756\n",
      "Nivel 30:\n",
      "  Mejor combinación: ('heavyball', 'sleep', 0.1, 30)\n",
      "  Probabilidad: 0.4764\n",
      "Nivel 31:\n",
      "  Mejor combinación: ('heavyball', 'sleep', 0.1, 31)\n",
      "  Probabilidad: 0.4771\n",
      "Nivel 32:\n",
      "  Mejor combinación: ('heavyball', 'sleep', 0.1, 32)\n",
      "  Probabilidad: 0.4777\n",
      "Nivel 33:\n",
      "  Mejor combinación: ('heavyball', 'sleep', 0.1, 33)\n",
      "  Probabilidad: 0.4784\n",
      "Nivel 34:\n",
      "  Mejor combinación: ('heavyball', 'sleep', 0.1, 34)\n",
      "  Probabilidad: 0.479\n",
      "Nivel 35:\n",
      "  Mejor combinación: ('heavyball', 'sleep', 0.1, 35)\n",
      "  Probabilidad: 0.4796\n",
      "Nivel 36:\n",
      "  Mejor combinación: ('heavyball', 'sleep', 0.1, 36)\n",
      "  Probabilidad: 0.4802\n",
      "Nivel 37:\n",
      "  Mejor combinación: ('heavyball', 'sleep', 0.1, 37)\n",
      "  Probabilidad: 0.474\n",
      "Nivel 38:\n",
      "  Mejor combinación: ('heavyball', 'sleep', 0.1, 38)\n",
      "  Probabilidad: 0.4746\n",
      "Nivel 39:\n",
      "  Mejor combinación: ('heavyball', 'sleep', 0.1, 39)\n",
      "  Probabilidad: 0.4753\n",
      "Nivel 40:\n",
      "  Mejor combinación: ('heavyball', 'sleep', 0.1, 40)\n",
      "  Probabilidad: 0.4759\n",
      "Nivel 41:\n",
      "  Mejor combinación: ('heavyball', 'sleep', 0.1, 41)\n",
      "  Probabilidad: 0.4765\n",
      "Nivel 42:\n",
      "  Mejor combinación: ('heavyball', 'sleep', 0.1, 42)\n",
      "  Probabilidad: 0.4771\n",
      "Nivel 43:\n",
      "  Mejor combinación: ('heavyball', 'sleep', 0.1, 43)\n",
      "  Probabilidad: 0.4776\n",
      "Nivel 44:\n",
      "  Mejor combinación: ('heavyball', 'sleep', 0.1, 44)\n",
      "  Probabilidad: 0.4781\n",
      "Nivel 45:\n",
      "  Mejor combinación: ('heavyball', 'sleep', 0.1, 45)\n",
      "  Probabilidad: 0.4787\n",
      "Nivel 46:\n",
      "  Mejor combinación: ('heavyball', 'sleep', 0.1, 46)\n",
      "  Probabilidad: 0.4791\n",
      "Nivel 47:\n",
      "  Mejor combinación: ('heavyball', 'sleep', 0.1, 47)\n",
      "  Probabilidad: 0.474\n",
      "Nivel 48:\n",
      "  Mejor combinación: ('heavyball', 'sleep', 0.1, 48)\n",
      "  Probabilidad: 0.4745\n",
      "Nivel 49:\n",
      "  Mejor combinación: ('heavyball', 'sleep', 0.1, 49)\n",
      "  Probabilidad: 0.4751\n",
      "Nivel 50:\n",
      "  Mejor combinación: ('heavyball', 'sleep', 0.1, 50)\n",
      "  Probabilidad: 0.4756\n",
      "Nivel 51:\n",
      "  Mejor combinación: ('heavyball', 'sleep', 0.1, 51)\n",
      "  Probabilidad: 0.4761\n",
      "Nivel 52:\n",
      "  Mejor combinación: ('heavyball', 'sleep', 0.1, 52)\n",
      "  Probabilidad: 0.4766\n",
      "Nivel 53:\n",
      "  Mejor combinación: ('heavyball', 'sleep', 0.1, 53)\n",
      "  Probabilidad: 0.4771\n",
      "Nivel 54:\n",
      "  Mejor combinación: ('heavyball', 'sleep', 0.1, 54)\n",
      "  Probabilidad: 0.4775\n",
      "Nivel 55:\n",
      "  Mejor combinación: ('heavyball', 'sleep', 0.1, 55)\n",
      "  Probabilidad: 0.478\n",
      "Nivel 56:\n",
      "  Mejor combinación: ('heavyball', 'sleep', 0.1, 56)\n",
      "  Probabilidad: 0.4784\n",
      "Nivel 57:\n",
      "  Mejor combinación: ('heavyball', 'sleep', 0.1, 57)\n",
      "  Probabilidad: 0.474\n",
      "Nivel 58:\n",
      "  Mejor combinación: ('heavyball', 'sleep', 0.1, 58)\n",
      "  Probabilidad: 0.4745\n",
      "Nivel 59:\n",
      "  Mejor combinación: ('heavyball', 'sleep', 0.1, 59)\n",
      "  Probabilidad: 0.4749\n",
      "Nivel 60:\n",
      "  Mejor combinación: ('heavyball', 'sleep', 0.1, 60)\n",
      "  Probabilidad: 0.4754\n",
      "Nivel 61:\n",
      "  Mejor combinación: ('heavyball', 'sleep', 0.1, 61)\n",
      "  Probabilidad: 0.4758\n",
      "Nivel 62:\n",
      "  Mejor combinación: ('heavyball', 'sleep', 0.1, 62)\n",
      "  Probabilidad: 0.4762\n",
      "Nivel 63:\n",
      "  Mejor combinación: ('heavyball', 'sleep', 0.1, 63)\n",
      "  Probabilidad: 0.4766\n",
      "Nivel 64:\n",
      "  Mejor combinación: ('heavyball', 'sleep', 0.1, 64)\n",
      "  Probabilidad: 0.4771\n",
      "Nivel 65:\n",
      "  Mejor combinación: ('heavyball', 'sleep', 0.1, 65)\n",
      "  Probabilidad: 0.4774\n",
      "Nivel 66:\n",
      "  Mejor combinación: ('heavyball', 'sleep', 0.1, 66)\n",
      "  Probabilidad: 0.4778\n",
      "Nivel 67:\n",
      "  Mejor combinación: ('heavyball', 'sleep', 0.1, 67)\n",
      "  Probabilidad: 0.474\n",
      "Nivel 68:\n",
      "  Mejor combinación: ('heavyball', 'sleep', 0.1, 68)\n",
      "  Probabilidad: 0.4744\n",
      "Nivel 69:\n",
      "  Mejor combinación: ('heavyball', 'sleep', 0.1, 69)\n",
      "  Probabilidad: 0.4748\n",
      "Nivel 70:\n",
      "  Mejor combinación: ('heavyball', 'sleep', 0.1, 70)\n",
      "  Probabilidad: 0.4752\n",
      "Nivel 71:\n",
      "  Mejor combinación: ('heavyball', 'sleep', 0.1, 71)\n",
      "  Probabilidad: 0.4756\n",
      "Nivel 72:\n",
      "  Mejor combinación: ('heavyball', 'sleep', 0.1, 72)\n",
      "  Probabilidad: 0.476\n",
      "Nivel 73:\n",
      "  Mejor combinación: ('heavyball', 'sleep', 0.1, 73)\n",
      "  Probabilidad: 0.4763\n",
      "Nivel 74:\n",
      "  Mejor combinación: ('heavyball', 'sleep', 0.1, 74)\n",
      "  Probabilidad: 0.4767\n",
      "Nivel 75:\n",
      "  Mejor combinación: ('heavyball', 'sleep', 0.1, 75)\n",
      "  Probabilidad: 0.4771\n",
      "Nivel 76:\n",
      "  Mejor combinación: ('heavyball', 'sleep', 0.1, 76)\n",
      "  Probabilidad: 0.4774\n",
      "Nivel 77:\n",
      "  Mejor combinación: ('heavyball', 'sleep', 0.1, 77)\n",
      "  Probabilidad: 0.474\n",
      "Nivel 78:\n",
      "  Mejor combinación: ('heavyball', 'sleep', 0.1, 78)\n",
      "  Probabilidad: 0.4743\n",
      "Nivel 79:\n",
      "  Mejor combinación: ('heavyball', 'sleep', 0.1, 79)\n",
      "  Probabilidad: 0.4747\n",
      "Nivel 80:\n",
      "  Mejor combinación: ('heavyball', 'sleep', 0.1, 80)\n",
      "  Probabilidad: 0.4751\n",
      "Nivel 81:\n",
      "  Mejor combinación: ('heavyball', 'sleep', 0.1, 81)\n",
      "  Probabilidad: 0.4754\n",
      "Nivel 82:\n",
      "  Mejor combinación: ('heavyball', 'sleep', 0.1, 82)\n",
      "  Probabilidad: 0.4758\n",
      "Nivel 83:\n",
      "  Mejor combinación: ('heavyball', 'sleep', 0.1, 83)\n",
      "  Probabilidad: 0.4761\n",
      "Nivel 84:\n",
      "  Mejor combinación: ('heavyball', 'sleep', 0.1, 84)\n",
      "  Probabilidad: 0.4764\n",
      "Nivel 85:\n",
      "  Mejor combinación: ('heavyball', 'sleep', 0.1, 85)\n",
      "  Probabilidad: 0.4767\n",
      "Nivel 86:\n",
      "  Mejor combinación: ('heavyball', 'sleep', 0.1, 86)\n",
      "  Probabilidad: 0.477\n",
      "Nivel 87:\n",
      "  Mejor combinación: ('heavyball', 'sleep', 0.1, 87)\n",
      "  Probabilidad: 0.474\n",
      "Nivel 88:\n",
      "  Mejor combinación: ('heavyball', 'sleep', 0.1, 88)\n",
      "  Probabilidad: 0.4743\n",
      "Nivel 89:\n",
      "  Mejor combinación: ('heavyball', 'sleep', 0.1, 89)\n",
      "  Probabilidad: 0.4746\n",
      "Nivel 90:\n",
      "  Mejor combinación: ('heavyball', 'sleep', 0.1, 90)\n",
      "  Probabilidad: 0.475\n",
      "Nivel 91:\n",
      "  Mejor combinación: ('heavyball', 'sleep', 0.1, 91)\n",
      "  Probabilidad: 0.4753\n",
      "Nivel 92:\n",
      "  Mejor combinación: ('heavyball', 'sleep', 0.1, 92)\n",
      "  Probabilidad: 0.4756\n",
      "Nivel 93:\n",
      "  Mejor combinación: ('heavyball', 'sleep', 0.1, 93)\n",
      "  Probabilidad: 0.4759\n",
      "Nivel 94:\n",
      "  Mejor combinación: ('heavyball', 'sleep', 0.1, 94)\n",
      "  Probabilidad: 0.4762\n",
      "Nivel 95:\n",
      "  Mejor combinación: ('heavyball', 'sleep', 0.1, 95)\n",
      "  Probabilidad: 0.4765\n",
      "Nivel 96:\n",
      "  Mejor combinación: ('heavyball', 'sleep', 0.1, 96)\n",
      "  Probabilidad: 0.4768\n",
      "Nivel 97:\n",
      "  Mejor combinación: ('heavyball', 'sleep', 0.1, 97)\n",
      "  Probabilidad: 0.474\n",
      "Nivel 98:\n",
      "  Mejor combinación: ('heavyball', 'sleep', 0.1, 98)\n",
      "  Probabilidad: 0.4743\n",
      "Nivel 99:\n",
      "  Mejor combinación: ('heavyball', 'sleep', 0.1, 99)\n",
      "  Probabilidad: 0.4746\n",
      "Nivel 100:\n",
      "  Mejor combinación: ('heavyball', 'sleep', 0.1, 100)\n",
      "  Probabilidad: 0.4749\n"
     ]
    }
   ],
   "source": [
    "factory = PokemonFactory(\"pokemon.json\")\n",
    "\n",
    "with open(get_config_dir().joinpath(EJ2D_CONFIG), \"r\") as config_f_2e:\n",
    "    config_2e = json.load(config_f_2e)\n",
    "\n",
    "pokemon_name = config_2e[\"pokemon_name\"]\n",
    "hps = config_2e[\"hps\"]\n",
    "statuses = config_2e[\"statuses\"]\n",
    "level = config_2e[\"level\"]\n",
    "pokeballs = config_2e[\"pokeballs\"]\n",
    "levels = config_2e[\"levels\"]\n",
    "\n",
    "best_combination_by_level = {}\n",
    "for level in levels:\n",
    "    pokemon_rates = calculate_rates(statuses, hps, pokeballs, pokemon_name, level)\n",
    "    max_rate = max(pokemon_rates.values())\n",
    "    for key, value in pokemon_rates.items():\n",
    "        if value == max_rate:\n",
    "            best_combination = key\n",
    "            break\n",
    "    best_combination_by_level[level] = {\n",
    "        \"best_combination\": best_combination,\n",
    "        \"max_rate\": max_rate\n",
    "    }\n",
    "\n",
    "for index, (level, info) in enumerate(best_combination_by_level.items()):\n",
    "    print(f\"Nivel {index + 1}:\")\n",
    "    print(f\"  Mejor combinación: {info['best_combination']}\")\n",
    "    print(f\"  Probabilidad: {info['max_rate']}\")"
   ]
  },
  {
   "cell_type": "markdown",
   "id": "2e1d71c226ba63b6",
   "metadata": {
    "collapsed": false
   },
   "source": [
    "Como se infirió en base al ejercicio 2c, vemos que el nivel no influye en la probabilidad de captura. La mejor combinación de parámetros es la misma para todos los niveles para Snorlax.\n"
   ]
  },
  {
   "cell_type": "code",
   "execution_count": null,
   "id": "b95789d7cccb46ce",
   "metadata": {
    "collapsed": false
   },
   "outputs": [],
   "source": []
  }
 ],
 "metadata": {
  "kernelspec": {
   "display_name": "Python 3",
   "language": "python",
   "name": "python3"
  },
  "language_info": {
   "codemirror_mode": {
    "name": "ipython",
    "version": 3
   },
   "file_extension": ".py",
   "mimetype": "text/x-python",
   "name": "python",
   "nbconvert_exporter": "python",
   "pygments_lexer": "ipython3",
   "version": "3.9.6"
  }
 },
 "nbformat": 4,
 "nbformat_minor": 5
}
